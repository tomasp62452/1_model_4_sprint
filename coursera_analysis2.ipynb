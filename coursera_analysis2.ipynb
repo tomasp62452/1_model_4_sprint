{
 "cells": [
  {
   "cell_type": "markdown",
   "metadata": {},
   "source": [
    "# Exploratory data analysis and visualization of Coursera Course data set\n",
    "\n",
    "**The goal** of EDA is to find potential ways to increase the quality of Coursera course assortment.\n",
    "\n",
    "To achieve the main goal it was further broken down into the following 4 sub-goals:\n",
    "\n",
    "1. Conduct comprehensive exploratory data analysis (EDA) of the dataset utilizing graphical techniques.\n",
    "2. Investigate the correlation between course ratings and other variables, with the assumption that course ratings serve as indicators of course quality.\n",
    "3. Assess the demand for various courses by analyzing the enrollment counts.\n",
    "4. Identify potential niches for new courses or opportunities for enhancing existing courses\n",
    "\n",
    "### Summary of Key Findings:\n",
    "\n",
    "- **Beginner-Oriented Courses**: Coursera primarily offers beginner-level courses.\n",
    "- **High Course Ratings**: Most courses have high ratings, indicating overall quality.\n",
    "- **No Strong Correlation**: There's no significant relationship between course ratings and student enrollment, course difficulty, and certificate type.\n",
    "- **Lack of Professional Certificates and Advanced Courses**: There is a significant lack of professional certificates and courses for advanced users.\n",
    "- **Popular Course**: Stanford's Machine Learning course is one of the most popular.\n",
    "- **Demand for Professional Certificates and Mixed Courses**: There is a huge demand for professional certificates and intermediate courses.\n",
    "- **Higher Demand for Advanced Courses**: There is also a notable demand for advanced courses.\n",
    "- **Low Ratings and Enrollment for Specific Course**: Google's Machine Learning for Trading course has comparatively low ratings and enrollment count.\n",
    "- **High Average Ratings for Course Providers**: Course providers on average have high ratings, indicating they are providing good quality content.\n",
    "\n",
    "\n",
    "### Summary of Suggestions for Coursera:\n",
    "\n",
    "- **Expand Advanced Course Offerings**: Increase the variety of advanced courses to cater to learners with higher skill levels.\n",
    "- **Provide More Professional Certificates**: Offer more professional certificates to meet the specific needs of learners seeking formal credentials.\n",
    "- **Increase Mixed Course Offerings**: Develop more Mixed courses to bridge the gap between beginner and advanced levels.\n",
    "- **Conduct Deeper Analysis of Popular Courses**: Perform a deeper analysis of Stanford's Machine Learning course to understand the reasons for its popularity. Insights from this analysis could help other courses implement similar strategies.\n",
    "- **Quality Improvement for Specific Courses**: Improve the quality of Google's Machine Learning for Trading course, which currently has comparatively low ratings and enrollment count.\n",
    "- **Maintain High Standards**: Ensure that all course types, including professional certificates, maintain high quality and receive positive ratings from learners.\n",
    "\n"
   ]
  },
  {
   "cell_type": "markdown",
   "metadata": {},
   "source": [
    "### Importing libraries"
   ]
  },
  {
   "cell_type": "code",
   "execution_count": 56,
   "metadata": {},
   "outputs": [
    {
     "data": {
      "text/plain": [
       "'c:\\\\Users\\\\Mokslams2\\\\Documents\\\\turing_college'"
      ]
     },
     "execution_count": 56,
     "metadata": {},
     "output_type": "execute_result"
    }
   ],
   "source": [
    "%pwd"
   ]
  },
  {
   "cell_type": "code",
   "execution_count": 58,
   "metadata": {},
   "outputs": [
    {
     "name": "stdout",
     "output_type": "stream",
     "text": [
      "Collecting black[jupyter]\n",
      "  Using cached black-24.8.0-cp312-cp312-win_amd64.whl.metadata (78 kB)\n",
      "Collecting click>=8.0.0 (from black[jupyter])\n",
      "  Using cached click-8.1.7-py3-none-any.whl.metadata (3.0 kB)\n",
      "Collecting mypy-extensions>=0.4.3 (from black[jupyter])\n",
      "  Using cached mypy_extensions-1.0.0-py3-none-any.whl.metadata (1.1 kB)\n",
      "Requirement already satisfied: packaging>=22.0 in c:\\users\\mokslams2\\anaconda3\\envs\\visualization\\lib\\site-packages (from black[jupyter]) (24.1)\n",
      "Collecting pathspec>=0.9.0 (from black[jupyter])\n",
      "  Using cached pathspec-0.12.1-py3-none-any.whl.metadata (21 kB)\n",
      "Requirement already satisfied: platformdirs>=2 in c:\\users\\mokslams2\\anaconda3\\envs\\visualization\\lib\\site-packages (from black[jupyter]) (4.2.2)\n",
      "Requirement already satisfied: ipython>=7.8.0 in c:\\users\\mokslams2\\anaconda3\\envs\\visualization\\lib\\site-packages (from black[jupyter]) (8.12.3)\n",
      "Collecting tokenize-rt>=3.2.0 (from black[jupyter])\n",
      "  Downloading tokenize_rt-6.0.0-py2.py3-none-any.whl.metadata (4.1 kB)\n",
      "Requirement already satisfied: colorama in c:\\users\\mokslams2\\anaconda3\\envs\\visualization\\lib\\site-packages (from click>=8.0.0->black[jupyter]) (0.4.6)\n",
      "Requirement already satisfied: backcall in c:\\users\\mokslams2\\anaconda3\\envs\\visualization\\lib\\site-packages (from ipython>=7.8.0->black[jupyter]) (0.2.0)\n",
      "Requirement already satisfied: decorator in c:\\users\\mokslams2\\appdata\\roaming\\python\\python312\\site-packages (from ipython>=7.8.0->black[jupyter]) (5.1.1)\n",
      "Requirement already satisfied: jedi>=0.16 in c:\\users\\mokslams2\\appdata\\roaming\\python\\python312\\site-packages (from ipython>=7.8.0->black[jupyter]) (0.19.1)\n",
      "Requirement already satisfied: matplotlib-inline in c:\\users\\mokslams2\\appdata\\roaming\\python\\python312\\site-packages (from ipython>=7.8.0->black[jupyter]) (0.1.7)\n",
      "Requirement already satisfied: pickleshare in c:\\users\\mokslams2\\anaconda3\\envs\\visualization\\lib\\site-packages (from ipython>=7.8.0->black[jupyter]) (0.7.5)\n",
      "Requirement already satisfied: prompt-toolkit!=3.0.37,<3.1.0,>=3.0.30 in c:\\users\\mokslams2\\appdata\\roaming\\python\\python312\\site-packages (from ipython>=7.8.0->black[jupyter]) (3.0.45)\n",
      "Requirement already satisfied: pygments>=2.4.0 in c:\\users\\mokslams2\\appdata\\roaming\\python\\python312\\site-packages (from ipython>=7.8.0->black[jupyter]) (2.18.0)\n",
      "Requirement already satisfied: stack-data in c:\\users\\mokslams2\\appdata\\roaming\\python\\python312\\site-packages (from ipython>=7.8.0->black[jupyter]) (0.6.3)\n",
      "Requirement already satisfied: traitlets>=5 in c:\\users\\mokslams2\\appdata\\roaming\\python\\python312\\site-packages (from ipython>=7.8.0->black[jupyter]) (5.14.3)\n",
      "Requirement already satisfied: parso<0.9.0,>=0.8.3 in c:\\users\\mokslams2\\appdata\\roaming\\python\\python312\\site-packages (from jedi>=0.16->ipython>=7.8.0->black[jupyter]) (0.8.4)\n",
      "Requirement already satisfied: wcwidth in c:\\users\\mokslams2\\appdata\\roaming\\python\\python312\\site-packages (from prompt-toolkit!=3.0.37,<3.1.0,>=3.0.30->ipython>=7.8.0->black[jupyter]) (0.2.13)\n",
      "Requirement already satisfied: executing>=1.2.0 in c:\\users\\mokslams2\\appdata\\roaming\\python\\python312\\site-packages (from stack-data->ipython>=7.8.0->black[jupyter]) (2.0.1)\n",
      "Requirement already satisfied: asttokens>=2.1.0 in c:\\users\\mokslams2\\appdata\\roaming\\python\\python312\\site-packages (from stack-data->ipython>=7.8.0->black[jupyter]) (2.4.1)\n",
      "Requirement already satisfied: pure-eval in c:\\users\\mokslams2\\appdata\\roaming\\python\\python312\\site-packages (from stack-data->ipython>=7.8.0->black[jupyter]) (0.2.2)\n",
      "Requirement already satisfied: six>=1.12.0 in c:\\users\\mokslams2\\appdata\\roaming\\python\\python312\\site-packages (from asttokens>=2.1.0->stack-data->ipython>=7.8.0->black[jupyter]) (1.16.0)\n",
      "Using cached click-8.1.7-py3-none-any.whl (97 kB)\n",
      "Using cached mypy_extensions-1.0.0-py3-none-any.whl (4.7 kB)\n",
      "Using cached pathspec-0.12.1-py3-none-any.whl (31 kB)\n",
      "Downloading tokenize_rt-6.0.0-py2.py3-none-any.whl (5.9 kB)\n",
      "Using cached black-24.8.0-cp312-cp312-win_amd64.whl (1.4 MB)\n",
      "Installing collected packages: tokenize-rt, pathspec, mypy-extensions, click, black\n",
      "Successfully installed black-24.8.0 click-8.1.7 mypy-extensions-1.0.0 pathspec-0.12.1 tokenize-rt-6.0.0\n",
      "Note: you may need to restart the kernel to use updated packages.\n"
     ]
    }
   ],
   "source": [
    "pip install \"black[jupyter]\""
   ]
  },
  {
   "cell_type": "code",
   "execution_count": 59,
   "metadata": {},
   "outputs": [
    {
     "name": "stderr",
     "output_type": "stream",
     "text": [
      "reformatted c:\\Users\\Mokslams2\\Documents\\turing_college\\coursera_analysis.ipynb\n",
      "\n",
      "All done! ✨ 🍰 ✨\n",
      "1 file reformatted.\n"
     ]
    }
   ],
   "source": [
    "!black \"c:\\\\Users\\\\Mokslams2\\\\Documents\\\\turing_college\\coursera_analysis.ipynb\""
   ]
  },
  {
   "cell_type": "code",
   "execution_count": 29,
   "metadata": {},
   "outputs": [],
   "source": [
    "import pandas as pd\n",
    "import numpy as np\n",
    "import seaborn as sns\n",
    "import matplotlib.pyplot as plt\n",
    "from scipy import stats\n",
    "import matplotlib.ticker as ticker\n",
    "from matplotlib.cm import ScalarMappable\n",
    "from matplotlib.colors import Normalize\n",
    "import plotly.express as px\n",
    "import warnings\n",
    "\n",
    "warnings.filterwarnings(\"ignore\")"
   ]
  },
  {
   "cell_type": "markdown",
   "metadata": {},
   "source": [
    "### Loading data from Kaggle"
   ]
  },
  {
   "cell_type": "code",
   "execution_count": 30,
   "metadata": {},
   "outputs": [
    {
     "name": "stdout",
     "output_type": "stream",
     "text": [
      "Dataset URL: https://www.kaggle.com/datasets/siddharthm1698/coursera-course-dataset\n"
     ]
    }
   ],
   "source": [
    "# An alternative way to download datasets from kaggle\n",
    "# Create API token ~\\.kaggle\\kaggle.json\n",
    "\n",
    "import kaggle\n",
    "\n",
    "kaggle.api.authenticate()\n",
    "kaggle.api.dataset_download_files(\n",
    "    \"siddharthm1698/coursera-course-dataset\", path=\".\", unzip=True\n",
    ")"
   ]
  },
  {
   "cell_type": "code",
   "execution_count": 31,
   "metadata": {},
   "outputs": [
    {
     "data": {
      "text/html": [
       "<div>\n",
       "<style scoped>\n",
       "    .dataframe tbody tr th:only-of-type {\n",
       "        vertical-align: middle;\n",
       "    }\n",
       "\n",
       "    .dataframe tbody tr th {\n",
       "        vertical-align: top;\n",
       "    }\n",
       "\n",
       "    .dataframe thead th {\n",
       "        text-align: right;\n",
       "    }\n",
       "</style>\n",
       "<table border=\"1\" class=\"dataframe\">\n",
       "  <thead>\n",
       "    <tr style=\"text-align: right;\">\n",
       "      <th></th>\n",
       "      <th>course_title</th>\n",
       "      <th>course_organization</th>\n",
       "      <th>course_Certificate_type</th>\n",
       "      <th>course_rating</th>\n",
       "      <th>course_difficulty</th>\n",
       "      <th>course_students_enrolled</th>\n",
       "    </tr>\n",
       "  </thead>\n",
       "  <tbody>\n",
       "    <tr>\n",
       "      <th>0</th>\n",
       "      <td>IBM Data Science</td>\n",
       "      <td>IBM</td>\n",
       "      <td>PROFESSIONAL CERTIFICATE</td>\n",
       "      <td>4.6</td>\n",
       "      <td>Beginner</td>\n",
       "      <td>480k</td>\n",
       "    </tr>\n",
       "    <tr>\n",
       "      <th>1</th>\n",
       "      <td>Introduction to Data Science</td>\n",
       "      <td>IBM</td>\n",
       "      <td>SPECIALIZATION</td>\n",
       "      <td>4.6</td>\n",
       "      <td>Beginner</td>\n",
       "      <td>310k</td>\n",
       "    </tr>\n",
       "    <tr>\n",
       "      <th>2</th>\n",
       "      <td>The Science of Well-Being</td>\n",
       "      <td>Yale University</td>\n",
       "      <td>COURSE</td>\n",
       "      <td>4.9</td>\n",
       "      <td>Mixed</td>\n",
       "      <td>2.5m</td>\n",
       "    </tr>\n",
       "    <tr>\n",
       "      <th>3</th>\n",
       "      <td>Python for Everybody</td>\n",
       "      <td>University of Michigan</td>\n",
       "      <td>SPECIALIZATION</td>\n",
       "      <td>4.8</td>\n",
       "      <td>Beginner</td>\n",
       "      <td>1.5m</td>\n",
       "    </tr>\n",
       "    <tr>\n",
       "      <th>4</th>\n",
       "      <td>Google IT Support</td>\n",
       "      <td>Google</td>\n",
       "      <td>PROFESSIONAL CERTIFICATE</td>\n",
       "      <td>4.8</td>\n",
       "      <td>Beginner</td>\n",
       "      <td>350k</td>\n",
       "    </tr>\n",
       "    <tr>\n",
       "      <th>...</th>\n",
       "      <td>...</td>\n",
       "      <td>...</td>\n",
       "      <td>...</td>\n",
       "      <td>...</td>\n",
       "      <td>...</td>\n",
       "      <td>...</td>\n",
       "    </tr>\n",
       "    <tr>\n",
       "      <th>886</th>\n",
       "      <td>Understanding Modern Finance</td>\n",
       "      <td>American Institute of Business and Economics</td>\n",
       "      <td>SPECIALIZATION</td>\n",
       "      <td>4.4</td>\n",
       "      <td>Intermediate</td>\n",
       "      <td>11k</td>\n",
       "    </tr>\n",
       "    <tr>\n",
       "      <th>887</th>\n",
       "      <td>Object-Oriented Design</td>\n",
       "      <td>University of Alberta</td>\n",
       "      <td>COURSE</td>\n",
       "      <td>4.7</td>\n",
       "      <td>Intermediate</td>\n",
       "      <td>33k</td>\n",
       "    </tr>\n",
       "    <tr>\n",
       "      <th>888</th>\n",
       "      <td>Aprende a programar con Python</td>\n",
       "      <td>Universidad Austral</td>\n",
       "      <td>SPECIALIZATION</td>\n",
       "      <td>4.2</td>\n",
       "      <td>Beginner</td>\n",
       "      <td>6.6k</td>\n",
       "    </tr>\n",
       "    <tr>\n",
       "      <th>889</th>\n",
       "      <td>Погружение в Python</td>\n",
       "      <td>Moscow Institute of Physics and Technology</td>\n",
       "      <td>COURSE</td>\n",
       "      <td>4.7</td>\n",
       "      <td>Intermediate</td>\n",
       "      <td>45k</td>\n",
       "    </tr>\n",
       "    <tr>\n",
       "      <th>890</th>\n",
       "      <td>Compassionate Leadership Through Service Learn...</td>\n",
       "      <td>University of Colorado Boulder</td>\n",
       "      <td>COURSE</td>\n",
       "      <td>4.9</td>\n",
       "      <td>Beginner</td>\n",
       "      <td>6.4k</td>\n",
       "    </tr>\n",
       "  </tbody>\n",
       "</table>\n",
       "<p>891 rows × 6 columns</p>\n",
       "</div>"
      ],
      "text/plain": [
       "                                          course_title  \\\n",
       "0                                     IBM Data Science   \n",
       "1                         Introduction to Data Science   \n",
       "2                            The Science of Well-Being   \n",
       "3                                 Python for Everybody   \n",
       "4                                    Google IT Support   \n",
       "..                                                 ...   \n",
       "886                       Understanding Modern Finance   \n",
       "887                             Object-Oriented Design   \n",
       "888                     Aprende a programar con Python   \n",
       "889                                Погружение в Python   \n",
       "890  Compassionate Leadership Through Service Learn...   \n",
       "\n",
       "                              course_organization   course_Certificate_type  \\\n",
       "0                                             IBM  PROFESSIONAL CERTIFICATE   \n",
       "1                                             IBM            SPECIALIZATION   \n",
       "2                                 Yale University                    COURSE   \n",
       "3                          University of Michigan            SPECIALIZATION   \n",
       "4                                          Google  PROFESSIONAL CERTIFICATE   \n",
       "..                                            ...                       ...   \n",
       "886  American Institute of Business and Economics            SPECIALIZATION   \n",
       "887                         University of Alberta                    COURSE   \n",
       "888                           Universidad Austral            SPECIALIZATION   \n",
       "889    Moscow Institute of Physics and Technology                    COURSE   \n",
       "890                University of Colorado Boulder                    COURSE   \n",
       "\n",
       "     course_rating course_difficulty course_students_enrolled  \n",
       "0              4.6          Beginner                     480k  \n",
       "1              4.6          Beginner                     310k  \n",
       "2              4.9             Mixed                     2.5m  \n",
       "3              4.8          Beginner                     1.5m  \n",
       "4              4.8          Beginner                     350k  \n",
       "..             ...               ...                      ...  \n",
       "886            4.4      Intermediate                      11k  \n",
       "887            4.7      Intermediate                      33k  \n",
       "888            4.2          Beginner                     6.6k  \n",
       "889            4.7      Intermediate                      45k  \n",
       "890            4.9          Beginner                     6.4k  \n",
       "\n",
       "[891 rows x 6 columns]"
      ]
     },
     "execution_count": 31,
     "metadata": {},
     "output_type": "execute_result"
    }
   ],
   "source": [
    "df = pd.read_csv(\"coursea_data.csv\", index_col=0).sort_index()\n",
    "df"
   ]
  },
  {
   "cell_type": "markdown",
   "metadata": {},
   "source": [
    "### Data cleaning"
   ]
  },
  {
   "cell_type": "code",
   "execution_count": 32,
   "metadata": {},
   "outputs": [],
   "source": [
    "df[\"course_students_enrolled\"] = (\n",
    "    df[\"course_students_enrolled\"]\n",
    "    .str.replace(\"k\", \"*1_000\")\n",
    "    .str.replace(\"m\", \"*1_000_000\")\n",
    "    .map(eval)\n",
    ")"
   ]
  },
  {
   "cell_type": "code",
   "execution_count": 33,
   "metadata": {},
   "outputs": [
    {
     "name": "stdout",
     "output_type": "stream",
     "text": [
      "<class 'pandas.core.frame.DataFrame'>\n",
      "Index: 891 entries, 0 to 890\n",
      "Data columns (total 6 columns):\n",
      " #   Column                    Non-Null Count  Dtype  \n",
      "---  ------                    --------------  -----  \n",
      " 0   course_title              891 non-null    object \n",
      " 1   course_organization       891 non-null    object \n",
      " 2   course_Certificate_type   891 non-null    object \n",
      " 3   course_rating             891 non-null    float64\n",
      " 4   course_difficulty         891 non-null    object \n",
      " 5   course_students_enrolled  891 non-null    float64\n",
      "dtypes: float64(2), object(4)\n",
      "memory usage: 48.7+ KB\n"
     ]
    }
   ],
   "source": [
    "df.info()"
   ]
  },
  {
   "cell_type": "markdown",
   "metadata": {},
   "source": [
    "**No NaNs** were found, so no actions were required.\n",
    "Moreover, we can see that there **3 Categorical variables**. Categorical variables typically represent data that can be divided into specific categories or groups. In this DataFrame, ['course_organization', 'course_Certificate_type', 'course_difficulty'] is a clear example of a categorical variable because it represents distinct categories of music.\n",
    "\n",
    "On the other hand, course title are technically of type ‘object’, but they don’t represent categories in the same way. They are unique names and are not meant to be grouped into categories.\n",
    "\n",
    "Finally, there are **6 features** in the data set because there are 6 columns in the data set. "
   ]
  },
  {
   "cell_type": "code",
   "execution_count": 34,
   "metadata": {},
   "outputs": [
    {
     "data": {
      "text/html": [
       "<div>\n",
       "<style scoped>\n",
       "    .dataframe tbody tr th:only-of-type {\n",
       "        vertical-align: middle;\n",
       "    }\n",
       "\n",
       "    .dataframe tbody tr th {\n",
       "        vertical-align: top;\n",
       "    }\n",
       "\n",
       "    .dataframe thead th {\n",
       "        text-align: right;\n",
       "    }\n",
       "</style>\n",
       "<table border=\"1\" class=\"dataframe\">\n",
       "  <thead>\n",
       "    <tr style=\"text-align: right;\">\n",
       "      <th></th>\n",
       "      <th>course_rating</th>\n",
       "      <th>course_students_enrolled</th>\n",
       "    </tr>\n",
       "  </thead>\n",
       "  <tbody>\n",
       "    <tr>\n",
       "      <th>count</th>\n",
       "      <td>891</td>\n",
       "      <td>891</td>\n",
       "    </tr>\n",
       "    <tr>\n",
       "      <th>mean</th>\n",
       "      <td>4.68</td>\n",
       "      <td>90,552.08</td>\n",
       "    </tr>\n",
       "    <tr>\n",
       "      <th>std</th>\n",
       "      <td>0.16</td>\n",
       "      <td>181,936.45</td>\n",
       "    </tr>\n",
       "    <tr>\n",
       "      <th>min</th>\n",
       "      <td>3.3</td>\n",
       "      <td>1,500</td>\n",
       "    </tr>\n",
       "    <tr>\n",
       "      <th>25%</th>\n",
       "      <td>4.6</td>\n",
       "      <td>17,500</td>\n",
       "    </tr>\n",
       "    <tr>\n",
       "      <th>50%</th>\n",
       "      <td>4.7</td>\n",
       "      <td>42,000</td>\n",
       "    </tr>\n",
       "    <tr>\n",
       "      <th>75%</th>\n",
       "      <td>4.8</td>\n",
       "      <td>99,500</td>\n",
       "    </tr>\n",
       "    <tr>\n",
       "      <th>max</th>\n",
       "      <td>5</td>\n",
       "      <td>3,200,000</td>\n",
       "    </tr>\n",
       "  </tbody>\n",
       "</table>\n",
       "</div>"
      ],
      "text/plain": [
       "      course_rating course_students_enrolled\n",
       "count           891                      891\n",
       "mean           4.68                90,552.08\n",
       "std            0.16               181,936.45\n",
       "min             3.3                    1,500\n",
       "25%             4.6                   17,500\n",
       "50%             4.7                   42,000\n",
       "75%             4.8                   99,500\n",
       "max               5                3,200,000"
      ]
     },
     "execution_count": 34,
     "metadata": {},
     "output_type": "execute_result"
    }
   ],
   "source": [
    "df.describe().map(lambda x: \"{:,.2f}\".format(x).rstrip(\"0\").rstrip(\".\"))"
   ]
  },
  {
   "cell_type": "markdown",
   "metadata": {},
   "source": [
    "## Removing duplicated samples"
   ]
  },
  {
   "cell_type": "code",
   "execution_count": 35,
   "metadata": {},
   "outputs": [
    {
     "data": {
      "text/html": [
       "<div>\n",
       "<style scoped>\n",
       "    .dataframe tbody tr th:only-of-type {\n",
       "        vertical-align: middle;\n",
       "    }\n",
       "\n",
       "    .dataframe tbody tr th {\n",
       "        vertical-align: top;\n",
       "    }\n",
       "\n",
       "    .dataframe thead th {\n",
       "        text-align: right;\n",
       "    }\n",
       "</style>\n",
       "<table border=\"1\" class=\"dataframe\">\n",
       "  <thead>\n",
       "    <tr style=\"text-align: right;\">\n",
       "      <th></th>\n",
       "      <th>course_title</th>\n",
       "      <th>course_organization</th>\n",
       "      <th>course_Certificate_type</th>\n",
       "      <th>course_rating</th>\n",
       "      <th>course_difficulty</th>\n",
       "      <th>course_students_enrolled</th>\n",
       "    </tr>\n",
       "  </thead>\n",
       "  <tbody>\n",
       "    <tr>\n",
       "      <th>6</th>\n",
       "      <td>Machine Learning</td>\n",
       "      <td>Stanford University</td>\n",
       "      <td>COURSE</td>\n",
       "      <td>4.9</td>\n",
       "      <td>Mixed</td>\n",
       "      <td>3200000.0</td>\n",
       "    </tr>\n",
       "    <tr>\n",
       "      <th>181</th>\n",
       "      <td>Machine Learning</td>\n",
       "      <td>University of Washington</td>\n",
       "      <td>SPECIALIZATION</td>\n",
       "      <td>4.6</td>\n",
       "      <td>Intermediate</td>\n",
       "      <td>290000.0</td>\n",
       "    </tr>\n",
       "    <tr>\n",
       "      <th>205</th>\n",
       "      <td>Developing Your Musicianship</td>\n",
       "      <td>Berklee College of Music</td>\n",
       "      <td>SPECIALIZATION</td>\n",
       "      <td>4.8</td>\n",
       "      <td>Beginner</td>\n",
       "      <td>54000.0</td>\n",
       "    </tr>\n",
       "    <tr>\n",
       "      <th>241</th>\n",
       "      <td>Marketing Digital</td>\n",
       "      <td>Universidade de São Paulo</td>\n",
       "      <td>COURSE</td>\n",
       "      <td>4.8</td>\n",
       "      <td>Beginner</td>\n",
       "      <td>81000.0</td>\n",
       "    </tr>\n",
       "    <tr>\n",
       "      <th>325</th>\n",
       "      <td>Marketing Digital</td>\n",
       "      <td>Universidad Austral</td>\n",
       "      <td>SPECIALIZATION</td>\n",
       "      <td>4.7</td>\n",
       "      <td>Beginner</td>\n",
       "      <td>39000.0</td>\n",
       "    </tr>\n",
       "    <tr>\n",
       "      <th>756</th>\n",
       "      <td>Developing Your Musicianship</td>\n",
       "      <td>Berklee College of Music</td>\n",
       "      <td>COURSE</td>\n",
       "      <td>4.8</td>\n",
       "      <td>Mixed</td>\n",
       "      <td>41000.0</td>\n",
       "    </tr>\n",
       "  </tbody>\n",
       "</table>\n",
       "</div>"
      ],
      "text/plain": [
       "                     course_title        course_organization  \\\n",
       "6                Machine Learning        Stanford University   \n",
       "181              Machine Learning   University of Washington   \n",
       "205  Developing Your Musicianship   Berklee College of Music   \n",
       "241             Marketing Digital  Universidade de São Paulo   \n",
       "325             Marketing Digital        Universidad Austral   \n",
       "756  Developing Your Musicianship   Berklee College of Music   \n",
       "\n",
       "    course_Certificate_type  course_rating course_difficulty  \\\n",
       "6                    COURSE            4.9             Mixed   \n",
       "181          SPECIALIZATION            4.6      Intermediate   \n",
       "205          SPECIALIZATION            4.8          Beginner   \n",
       "241                  COURSE            4.8          Beginner   \n",
       "325          SPECIALIZATION            4.7          Beginner   \n",
       "756                  COURSE            4.8             Mixed   \n",
       "\n",
       "     course_students_enrolled  \n",
       "6                   3200000.0  \n",
       "181                  290000.0  \n",
       "205                   54000.0  \n",
       "241                   81000.0  \n",
       "325                   39000.0  \n",
       "756                   41000.0  "
      ]
     },
     "execution_count": 35,
     "metadata": {},
     "output_type": "execute_result"
    }
   ],
   "source": [
    "duplicate_rows = df[df[[\"course_title\"]].duplicated(keep=False)]\n",
    "duplicate_rows"
   ]
  },
  {
   "cell_type": "markdown",
   "metadata": {},
   "source": [
    "\n",
    "No duplicated rows were found, so no actions were required."
   ]
  },
  {
   "cell_type": "code",
   "execution_count": 36,
   "metadata": {},
   "outputs": [],
   "source": [
    "del duplicate_rows"
   ]
  },
  {
   "cell_type": "markdown",
   "metadata": {},
   "source": [
    "## Treating outliers"
   ]
  },
  {
   "cell_type": "code",
   "execution_count": 37,
   "metadata": {},
   "outputs": [],
   "source": [
    "numerical_features = df.select_dtypes(include=[np.number]).columns"
   ]
  },
  {
   "cell_type": "code",
   "execution_count": 38,
   "metadata": {},
   "outputs": [
    {
     "data": {
      "image/png": "[encoded data removed]",
      "text/plain": [
       "<Figure size 1500x300 with 2 Axes>"
      ]
     },
     "metadata": {},
     "output_type": "display_data"
    }
   ],
   "source": [
    "numerical_features = df.select_dtypes(include=[np.number]).columns\n",
    "\n",
    "plt.figure(figsize=(15, 3))\n",
    "for i, feature in enumerate(numerical_features):\n",
    "    plt.subplot(1, 2, i + 1)\n",
    "    sns.boxplot(x=df[feature])\n",
    "    plt.title(f\"Boxplot of {feature}\")\n",
    "plt.tight_layout()\n",
    "plt.show()"
   ]
  },
  {
   "cell_type": "code",
   "execution_count": 39,
   "metadata": {},
   "outputs": [
    {
     "data": {
      "image/png": "[encoded data removed]",
      "text/plain": [
       "<Figure size 1400x600 with 1 Axes>"
      ]
     },
     "metadata": {},
     "output_type": "display_data"
    }
   ],
   "source": [
    "df.sort_values(by=\"course_rating\", ascending=True, inplace=True)\n",
    "\n",
    "plt.figure(figsize=(14, 6))\n",
    "\n",
    "\n",
    "colors = [\"red\"] + [\"#1f77b4\"] * 9\n",
    "\n",
    "sns.barplot(\n",
    "    x=\"course_students_enrolled\", y=\"course_title\", data=df.head(10), palette=colors\n",
    ")\n",
    "\n",
    "\n",
    "for i in range(10):\n",
    "    plt.annotate(\n",
    "        f\"{df[\"course_rating\"].iloc[i]:.2f}\",\n",
    "        xy=(df[\"course_students_enrolled\"].iloc[i] + 2000, i),\n",
    "        ha=\"left\",\n",
    "        va=\"center\",\n",
    "    )\n",
    "\n",
    "plt.title(\"Top 10 Lowest-Rated Courses\")\n",
    "plt.xlabel(\"Students Enrolled\")\n",
    "plt.ylabel(\"Course Title\")\n",
    "\n",
    "plt.gca().xaxis.set_major_formatter(\n",
    "    ticker.FuncFormatter(lambda x, p: format(int(x), \",\").replace(\",\", \".\"))\n",
    ");"
   ]
  },
  {
   "cell_type": "markdown",
   "metadata": {},
   "source": [
    "Outliers were identified using a boxplot, which displays data distribution and highlights potential anomalies. Despite finding outliers in several columns, they were not removed to avoid introducing NaNs or deleting rows, which could disrupt upcoming Exploratory Data Analysis (EDA). Thus, outliers were retained to maintain data integrity and ensure a comprehensive analysis. More we can see that lowest rated course is has almost 140.000 enrolled students."
   ]
  },
  {
   "cell_type": "markdown",
   "metadata": {},
   "source": [
    "## How many observations are there in this dataset?"
   ]
  },
  {
   "cell_type": "code",
   "execution_count": 40,
   "metadata": {},
   "outputs": [
    {
     "name": "stdout",
     "output_type": "stream",
     "text": [
      "There are 891 unique coursera courses in this data set.\n",
      "There are totally 80,681,900 enrolled in all the courses (not unique)\n"
     ]
    }
   ],
   "source": [
    "num_observations = df.shape[0]\n",
    "print(f\"There are {num_observations} unique coursera courses in this data set.\")\n",
    "print(\n",
    "    f\"There are totally {int(df[\"course_students_enrolled\"].sum()):,} enrolled in all the courses (not unique)\"\n",
    ")"
   ]
  },
  {
   "cell_type": "markdown",
   "metadata": {},
   "source": [
    "## Evaluating the impact of the Course Organization type to the Course Rating."
   ]
  },
  {
   "cell_type": "code",
   "execution_count": 41,
   "metadata": {},
   "outputs": [
    {
     "data": {
      "text/plain": [
       "154"
      ]
     },
     "execution_count": 41,
     "metadata": {},
     "output_type": "execute_result"
    }
   ],
   "source": [
    "df[\"course_organization\"].nunique()"
   ]
  },
  {
   "cell_type": "markdown",
   "metadata": {},
   "source": [
    "**Horizontal bar plots** of Average Course Rating by Organization"
   ]
  },
  {
   "cell_type": "code",
   "execution_count": 42,
   "metadata": {},
   "outputs": [
    {
     "data": {
      "application/vnd.plotly.v1+json": {
       "config": {
        "plotlyServerURL": "https://plot.ly"
       },
       "data": [
        {
         "alignmentgroup": "True",
         "hovertemplate": "x=%{x}<br>y=%{y}<extra></extra>",
         "legendgroup": "",
         "marker": {
          "color": "#636efa",
          "pattern": {
           "shape": ""
          }
         },
         "name": "",
         "offsetgroup": "",
         "orientation": "h",
         "showlegend": false,
         "textposition": "auto",
         "type": "bar",
         "x": [
          4.9,
          4.9,
          4.9,
          4.9,
          4.9,
          4.9,
          4.9,
          4.866666666666667,
          4.85,
          4.82
         ],
         "xaxis": "x",
         "y": [
          "Hebrew University of Jerusalem",
          "Nanyang Technological University, Singapore",
          "Universidade Estadual de Campinas",
          "Crece con Google",
          "London Business School",
          "Google - Spectrum Sharing",
          "ScrumTrek",
          "Universidade de São Paulo",
          "The University of Chicago",
          "Universidad de los Andes"
         ],
         "yaxis": "y"
        }
       ],
       "layout": {
        "barmode": "relative",
        "legend": {
         "tracegroupgap": 0
        },
        "template": {
         "data": {
          "bar": [
           {
            "error_x": {
             "color": "#2a3f5f"
            },
            "error_y": {
             "color": "#2a3f5f"
            },
            "marker": {
             "line": {
              "color": "#E5ECF6",
              "width": 0.5
             },
             "pattern": {
              "fillmode": "overlay",
              "size": 10,
              "solidity": 0.2
             }
            },
            "type": "bar"
           }
          ],
          "barpolar": [
           {
            "marker": {
             "line": {
              "color": "#E5ECF6",
              "width": 0.5
             },
             "pattern": {
              "fillmode": "overlay",
              "size": 10,
              "solidity": 0.2
             }
            },
            "type": "barpolar"
           }
          ],
          "carpet": [
           {
            "aaxis": {
             "endlinecolor": "#2a3f5f",
             "gridcolor": "white",
             "linecolor": "white",
             "minorgridcolor": "white",
             "startlinecolor": "#2a3f5f"
            },
            "baxis": {
             "endlinecolor": "#2a3f5f",
             "gridcolor": "white",
             "linecolor": "white",
             "minorgridcolor": "white",
             "startlinecolor": "#2a3f5f"
            },
            "type": "carpet"
           }
          ],
          "choropleth": [
           {
            "colorbar": {
             "outlinewidth": 0,
             "ticks": ""
            },
            "type": "choropleth"
           }
          ],
          "contour": [
           {
            "colorbar": {
             "outlinewidth": 0,
             "ticks": ""
            },
            "colorscale": [
             [
              0,
              "#0d0887"
             ],
             [
              0.1111111111111111,
              "#46039f"
             ],
             [
              0.2222222222222222,
              "#7201a8"
             ],
             [
              0.3333333333333333,
              "#9c179e"
             ],
             [
              0.4444444444444444,
              "#bd3786"
             ],
             [
              0.5555555555555556,
              "#d8576b"
             ],
             [
              0.6666666666666666,
              "#ed7953"
             ],
             [
              0.7777777777777778,
              "#fb9f3a"
             ],
             [
              0.8888888888888888,
              "#fdca26"
             ],
             [
              1,
              "#f0f921"
             ]
            ],
            "type": "contour"
           }
          ],
          "contourcarpet": [
           {
            "colorbar": {
             "outlinewidth": 0,
             "ticks": ""
            },
            "type": "contourcarpet"
           }
          ],
          "heatmap": [
           {
            "colorbar": {
             "outlinewidth": 0,
             "ticks": ""
            },
            "colorscale": [
             [
              0,
              "#0d0887"
             ],
             [
              0.1111111111111111,
              "#46039f"
             ],
             [
              0.2222222222222222,
              "#7201a8"
             ],
             [
              0.3333333333333333,
              "#9c179e"
             ],
             [
              0.4444444444444444,
              "#bd3786"
             ],
             [
              0.5555555555555556,
              "#d8576b"
             ],
             [
              0.6666666666666666,
              "#ed7953"
             ],
             [
              0.7777777777777778,
              "#fb9f3a"
             ],
             [
              0.8888888888888888,
              "#fdca26"
             ],
             [
              1,
              "#f0f921"
             ]
            ],
            "type": "heatmap"
           }
          ],
          "heatmapgl": [
           {
            "colorbar": {
             "outlinewidth": 0,
             "ticks": ""
            },
            "colorscale": [
             [
              0,
              "#0d0887"
             ],
             [
              0.1111111111111111,
              "#46039f"
             ],
             [
              0.2222222222222222,
              "#7201a8"
             ],
             [
              0.3333333333333333,
              "#9c179e"
             ],
             [
              0.4444444444444444,
              "#bd3786"
             ],
             [
              0.5555555555555556,
              "#d8576b"
             ],
             [
              0.6666666666666666,
              "#ed7953"
             ],
             [
              0.7777777777777778,
              "#fb9f3a"
             ],
             [
              0.8888888888888888,
              "#fdca26"
             ],
             [
              1,
              "#f0f921"
             ]
            ],
            "type": "heatmapgl"
           }
          ],
          "histogram": [
           {
            "marker": {
             "pattern": {
              "fillmode": "overlay",
              "size": 10,
              "solidity": 0.2
             }
            },
            "type": "histogram"
           }
          ],
          "histogram2d": [
           {
            "colorbar": {
             "outlinewidth": 0,
             "ticks": ""
            },
            "colorscale": [
             [
              0,
              "#0d0887"
             ],
             [
              0.1111111111111111,
              "#46039f"
             ],
             [
              0.2222222222222222,
              "#7201a8"
             ],
             [
              0.3333333333333333,
              "#9c179e"
             ],
             [
              0.4444444444444444,
              "#bd3786"
             ],
             [
              0.5555555555555556,
              "#d8576b"
             ],
             [
              0.6666666666666666,
              "#ed7953"
             ],
             [
              0.7777777777777778,
              "#fb9f3a"
             ],
             [
              0.8888888888888888,
              "#fdca26"
             ],
             [
              1,
              "#f0f921"
             ]
            ],
            "type": "histogram2d"
           }
          ],
          "histogram2dcontour": [
           {
            "colorbar": {
             "outlinewidth": 0,
             "ticks": ""
            },
            "colorscale": [
             [
              0,
              "#0d0887"
             ],
             [
              0.1111111111111111,
              "#46039f"
             ],
             [
              0.2222222222222222,
              "#7201a8"
             ],
             [
              0.3333333333333333,
              "#9c179e"
             ],
             [
              0.4444444444444444,
              "#bd3786"
             ],
             [
              0.5555555555555556,
              "#d8576b"
             ],
             [
              0.6666666666666666,
              "#ed7953"
             ],
             [
              0.7777777777777778,
              "#fb9f3a"
             ],
             [
              0.8888888888888888,
              "#fdca26"
             ],
             [
              1,
              "#f0f921"
             ]
            ],
            "type": "histogram2dcontour"
           }
          ],
          "mesh3d": [
           {
            "colorbar": {
             "outlinewidth": 0,
             "ticks": ""
            },
            "type": "mesh3d"
           }
          ],
          "parcoords": [
           {
            "line": {
             "colorbar": {
              "outlinewidth": 0,
              "ticks": ""
             }
            },
            "type": "parcoords"
           }
          ],
          "pie": [
           {
            "automargin": true,
            "type": "pie"
           }
          ],
          "scatter": [
           {
            "fillpattern": {
             "fillmode": "overlay",
             "size": 10,
             "solidity": 0.2
            },
            "type": "scatter"
           }
          ],
          "scatter3d": [
           {
            "line": {
             "colorbar": {
              "outlinewidth": 0,
              "ticks": ""
             }
            },
            "marker": {
             "colorbar": {
              "outlinewidth": 0,
              "ticks": ""
             }
            },
            "type": "scatter3d"
           }
          ],
          "scattercarpet": [
           {
            "marker": {
             "colorbar": {
              "outlinewidth": 0,
              "ticks": ""
             }
            },
            "type": "scattercarpet"
           }
          ],
          "scattergeo": [
           {
            "marker": {
             "colorbar": {
              "outlinewidth": 0,
              "ticks": ""
             }
            },
            "type": "scattergeo"
           }
          ],
          "scattergl": [
           {
            "marker": {
             "colorbar": {
              "outlinewidth": 0,
              "ticks": ""
             }
            },
            "type": "scattergl"
           }
          ],
          "scattermapbox": [
           {
            "marker": {
             "colorbar": {
              "outlinewidth": 0,
              "ticks": ""
             }
            },
            "type": "scattermapbox"
           }
          ],
          "scatterpolar": [
           {
            "marker": {
             "colorbar": {
              "outlinewidth": 0,
              "ticks": ""
             }
            },
            "type": "scatterpolar"
           }
          ],
          "scatterpolargl": [
           {
            "marker": {
             "colorbar": {
              "outlinewidth": 0,
              "ticks": ""
             }
            },
            "type": "scatterpolargl"
           }
          ],
          "scatterternary": [
           {
            "marker": {
             "colorbar": {
              "outlinewidth": 0,
              "ticks": ""
             }
            },
            "type": "scatterternary"
           }
          ],
          "surface": [
           {
            "colorbar": {
             "outlinewidth": 0,
             "ticks": ""
            },
            "colorscale": [
             [
              0,
              "#0d0887"
             ],
             [
              0.1111111111111111,
              "#46039f"
             ],
             [
              0.2222222222222222,
              "#7201a8"
             ],
             [
              0.3333333333333333,
              "#9c179e"
             ],
             [
              0.4444444444444444,
              "#bd3786"
             ],
             [
              0.5555555555555556,
              "#d8576b"
             ],
             [
              0.6666666666666666,
              "#ed7953"
             ],
             [
              0.7777777777777778,
              "#fb9f3a"
             ],
             [
              0.8888888888888888,
              "#fdca26"
             ],
             [
              1,
              "#f0f921"
             ]
            ],
            "type": "surface"
           }
          ],
          "table": [
           {
            "cells": {
             "fill": {
              "color": "#EBF0F8"
             },
             "line": {
              "color": "white"
             }
            },
            "header": {
             "fill": {
              "color": "#C8D4E3"
             },
             "line": {
              "color": "white"
             }
            },
            "type": "table"
           }
          ]
         },
         "layout": {
          "annotationdefaults": {
           "arrowcolor": "#2a3f5f",
           "arrowhead": 0,
           "arrowwidth": 1
          },
          "autotypenumbers": "strict",
          "coloraxis": {
           "colorbar": {
            "outlinewidth": 0,
            "ticks": ""
           }
          },
          "colorscale": {
           "diverging": [
            [
             0,
             "#8e0152"
            ],
            [
             0.1,
             "#c51b7d"
            ],
            [
             0.2,
             "#de77ae"
            ],
            [
             0.3,
             "#f1b6da"
            ],
            [
             0.4,
             "#fde0ef"
            ],
            [
             0.5,
             "#f7f7f7"
            ],
            [
             0.6,
             "#e6f5d0"
            ],
            [
             0.7,
             "#b8e186"
            ],
            [
             0.8,
             "#7fbc41"
            ],
            [
             0.9,
             "#4d9221"
            ],
            [
             1,
             "#276419"
            ]
           ],
           "sequential": [
            [
             0,
             "#0d0887"
            ],
            [
             0.1111111111111111,
             "#46039f"
            ],
            [
             0.2222222222222222,
             "#7201a8"
            ],
            [
             0.3333333333333333,
             "#9c179e"
            ],
            [
             0.4444444444444444,
             "#bd3786"
            ],
            [
             0.5555555555555556,
             "#d8576b"
            ],
            [
             0.6666666666666666,
             "#ed7953"
            ],
            [
             0.7777777777777778,
             "#fb9f3a"
            ],
            [
             0.8888888888888888,
             "#fdca26"
            ],
            [
             1,
             "#f0f921"
            ]
           ],
           "sequentialminus": [
            [
             0,
             "#0d0887"
            ],
            [
             0.1111111111111111,
             "#46039f"
            ],
            [
             0.2222222222222222,
             "#7201a8"
            ],
            [
             0.3333333333333333,
             "#9c179e"
            ],
            [
             0.4444444444444444,
             "#bd3786"
            ],
            [
             0.5555555555555556,
             "#d8576b"
            ],
            [
             0.6666666666666666,
             "#ed7953"
            ],
            [
             0.7777777777777778,
             "#fb9f3a"
            ],
            [
             0.8888888888888888,
             "#fdca26"
            ],
            [
             1,
             "#f0f921"
            ]
           ]
          },
          "colorway": [
           "#636efa",
           "#EF553B",
           "#00cc96",
           "#ab63fa",
           "#FFA15A",
           "#19d3f3",
           "#FF6692",
           "#B6E880",
           "#FF97FF",
           "#FECB52"
          ],
          "font": {
           "color": "#2a3f5f"
          },
          "geo": {
           "bgcolor": "white",
           "lakecolor": "white",
           "landcolor": "#E5ECF6",
           "showlakes": true,
           "showland": true,
           "subunitcolor": "white"
          },
          "hoverlabel": {
           "align": "left"
          },
          "hovermode": "closest",
          "mapbox": {
           "style": "light"
          },
          "paper_bgcolor": "white",
          "plot_bgcolor": "#E5ECF6",
          "polar": {
           "angularaxis": {
            "gridcolor": "white",
            "linecolor": "white",
            "ticks": ""
           },
           "bgcolor": "#E5ECF6",
           "radialaxis": {
            "gridcolor": "white",
            "linecolor": "white",
            "ticks": ""
           }
          },
          "scene": {
           "xaxis": {
            "backgroundcolor": "#E5ECF6",
            "gridcolor": "white",
            "gridwidth": 2,
            "linecolor": "white",
            "showbackground": true,
            "ticks": "",
            "zerolinecolor": "white"
           },
           "yaxis": {
            "backgroundcolor": "#E5ECF6",
            "gridcolor": "white",
            "gridwidth": 2,
            "linecolor": "white",
            "showbackground": true,
            "ticks": "",
            "zerolinecolor": "white"
           },
           "zaxis": {
            "backgroundcolor": "#E5ECF6",
            "gridcolor": "white",
            "gridwidth": 2,
            "linecolor": "white",
            "showbackground": true,
            "ticks": "",
            "zerolinecolor": "white"
           }
          },
          "shapedefaults": {
           "line": {
            "color": "#2a3f5f"
           }
          },
          "ternary": {
           "aaxis": {
            "gridcolor": "white",
            "linecolor": "white",
            "ticks": ""
           },
           "baxis": {
            "gridcolor": "white",
            "linecolor": "white",
            "ticks": ""
           },
           "bgcolor": "#E5ECF6",
           "caxis": {
            "gridcolor": "white",
            "linecolor": "white",
            "ticks": ""
           }
          },
          "title": {
           "x": 0.05
          },
          "xaxis": {
           "automargin": true,
           "gridcolor": "white",
           "linecolor": "white",
           "ticks": "",
           "title": {
            "standoff": 15
           },
           "zerolinecolor": "white",
           "zerolinewidth": 2
          },
          "yaxis": {
           "automargin": true,
           "gridcolor": "white",
           "linecolor": "white",
           "ticks": "",
           "title": {
            "standoff": 15
           },
           "zerolinecolor": "white",
           "zerolinewidth": 2
          }
         }
        },
        "title": {
         "text": "Average Course Rating by Organization Top-10"
        },
        "xaxis": {
         "anchor": "y",
         "domain": [
          0,
          1
         ],
         "title": {
          "text": "Average Course Rating"
         }
        },
        "yaxis": {
         "anchor": "x",
         "domain": [
          0,
          1
         ],
         "title": {
          "text": "Course Organization"
         }
        }
       }
      }
     },
     "metadata": {},
     "output_type": "display_data"
    }
   ],
   "source": [
    "grouped_data = (\n",
    "    df.groupby(\"course_organization\")[\"course_rating\"]\n",
    "    .mean()\n",
    "    .sort_values(ascending=False)\n",
    ")\n",
    "\n",
    "fig = px.bar(\n",
    "    x=grouped_data.head(10),\n",
    "    y=grouped_data.head(10).index,\n",
    "    title=\"Average Course Rating by Organization Top-10\",\n",
    ")\n",
    "fig.update_layout(\n",
    "    xaxis_title=\"Average Course Rating\", yaxis_title=\"Course Organization\"\n",
    ")"
   ]
  },
  {
   "cell_type": "code",
   "execution_count": 67,
   "metadata": {},
   "outputs": [
    {
     "data": {
      "application/vnd.plotly.v1+json": {
       "config": {
        "plotlyServerURL": "https://plot.ly"
       },
       "data": [
        {
         "alignmentgroup": "True",
         "hovertemplate": "x=%{x}<br>y=%{y}<extra></extra>",
         "legendgroup": "",
         "marker": {
          "color": "#636efa",
          "pattern": {
           "shape": ""
          }
         },
         "name": "",
         "offsetgroup": "",
         "orientation": "h",
         "showlegend": false,
         "textposition": "auto",
         "type": "bar",
         "x": [
          4.4,
          4.4,
          4.4,
          4.4,
          4.4,
          4.4,
          4.35,
          4.3,
          4.3,
          4.275
         ],
         "xaxis": "x",
         "y": [
          "Peter the Great St. Petersburg Polytechnic University",
          "American Institute of Business and Economics",
          "Icahn School of Medicine at Mount Sinai",
          "Novosibirsk State University ",
          "The Linux Foundation",
          "Luther College at the University of Regina",
          "Unity",
          "New York Institute of Finance",
          "Tsinghua University",
          "The State University of New York"
         ],
         "yaxis": "y"
        }
       ],
       "layout": {
        "barmode": "relative",
        "legend": {
         "tracegroupgap": 0
        },
        "template": {
         "data": {
          "bar": [
           {
            "error_x": {
             "color": "#2a3f5f"
            },
            "error_y": {
             "color": "#2a3f5f"
            },
            "marker": {
             "line": {
              "color": "#E5ECF6",
              "width": 0.5
             },
             "pattern": {
              "fillmode": "overlay",
              "size": 10,
              "solidity": 0.2
             }
            },
            "type": "bar"
           }
          ],
          "barpolar": [
           {
            "marker": {
             "line": {
              "color": "#E5ECF6",
              "width": 0.5
             },
             "pattern": {
              "fillmode": "overlay",
              "size": 10,
              "solidity": 0.2
             }
            },
            "type": "barpolar"
           }
          ],
          "carpet": [
           {
            "aaxis": {
             "endlinecolor": "#2a3f5f",
             "gridcolor": "white",
             "linecolor": "white",
             "minorgridcolor": "white",
             "startlinecolor": "#2a3f5f"
            },
            "baxis": {
             "endlinecolor": "#2a3f5f",
             "gridcolor": "white",
             "linecolor": "white",
             "minorgridcolor": "white",
             "startlinecolor": "#2a3f5f"
            },
            "type": "carpet"
           }
          ],
          "choropleth": [
           {
            "colorbar": {
             "outlinewidth": 0,
             "ticks": ""
            },
            "type": "choropleth"
           }
          ],
          "contour": [
           {
            "colorbar": {
             "outlinewidth": 0,
             "ticks": ""
            },
            "colorscale": [
             [
              0,
              "#0d0887"
             ],
             [
              0.1111111111111111,
              "#46039f"
             ],
             [
              0.2222222222222222,
              "#7201a8"
             ],
             [
              0.3333333333333333,
              "#9c179e"
             ],
             [
              0.4444444444444444,
              "#bd3786"
             ],
             [
              0.5555555555555556,
              "#d8576b"
             ],
             [
              0.6666666666666666,
              "#ed7953"
             ],
             [
              0.7777777777777778,
              "#fb9f3a"
             ],
             [
              0.8888888888888888,
              "#fdca26"
             ],
             [
              1,
              "#f0f921"
             ]
            ],
            "type": "contour"
           }
          ],
          "contourcarpet": [
           {
            "colorbar": {
             "outlinewidth": 0,
             "ticks": ""
            },
            "type": "contourcarpet"
           }
          ],
          "heatmap": [
           {
            "colorbar": {
             "outlinewidth": 0,
             "ticks": ""
            },
            "colorscale": [
             [
              0,
              "#0d0887"
             ],
             [
              0.1111111111111111,
              "#46039f"
             ],
             [
              0.2222222222222222,
              "#7201a8"
             ],
             [
              0.3333333333333333,
              "#9c179e"
             ],
             [
              0.4444444444444444,
              "#bd3786"
             ],
             [
              0.5555555555555556,
              "#d8576b"
             ],
             [
              0.6666666666666666,
              "#ed7953"
             ],
             [
              0.7777777777777778,
              "#fb9f3a"
             ],
             [
              0.8888888888888888,
              "#fdca26"
             ],
             [
              1,
              "#f0f921"
             ]
            ],
            "type": "heatmap"
           }
          ],
          "heatmapgl": [
           {
            "colorbar": {
             "outlinewidth": 0,
             "ticks": ""
            },
            "colorscale": [
             [
              0,
              "#0d0887"
             ],
             [
              0.1111111111111111,
              "#46039f"
             ],
             [
              0.2222222222222222,
              "#7201a8"
             ],
             [
              0.3333333333333333,
              "#9c179e"
             ],
             [
              0.4444444444444444,
              "#bd3786"
             ],
             [
              0.5555555555555556,
              "#d8576b"
             ],
             [
              0.6666666666666666,
              "#ed7953"
             ],
             [
              0.7777777777777778,
              "#fb9f3a"
             ],
             [
              0.8888888888888888,
              "#fdca26"
             ],
             [
              1,
              "#f0f921"
             ]
            ],
            "type": "heatmapgl"
           }
          ],
          "histogram": [
           {
            "marker": {
             "pattern": {
              "fillmode": "overlay",
              "size": 10,
              "solidity": 0.2
             }
            },
            "type": "histogram"
           }
          ],
          "histogram2d": [
           {
            "colorbar": {
             "outlinewidth": 0,
             "ticks": ""
            },
            "colorscale": [
             [
              0,
              "#0d0887"
             ],
             [
              0.1111111111111111,
              "#46039f"
             ],
             [
              0.2222222222222222,
              "#7201a8"
             ],
             [
              0.3333333333333333,
              "#9c179e"
             ],
             [
              0.4444444444444444,
              "#bd3786"
             ],
             [
              0.5555555555555556,
              "#d8576b"
             ],
             [
              0.6666666666666666,
              "#ed7953"
             ],
             [
              0.7777777777777778,
              "#fb9f3a"
             ],
             [
              0.8888888888888888,
              "#fdca26"
             ],
             [
              1,
              "#f0f921"
             ]
            ],
            "type": "histogram2d"
           }
          ],
          "histogram2dcontour": [
           {
            "colorbar": {
             "outlinewidth": 0,
             "ticks": ""
            },
            "colorscale": [
             [
              0,
              "#0d0887"
             ],
             [
              0.1111111111111111,
              "#46039f"
             ],
             [
              0.2222222222222222,
              "#7201a8"
             ],
             [
              0.3333333333333333,
              "#9c179e"
             ],
             [
              0.4444444444444444,
              "#bd3786"
             ],
             [
              0.5555555555555556,
              "#d8576b"
             ],
             [
              0.6666666666666666,
              "#ed7953"
             ],
             [
              0.7777777777777778,
              "#fb9f3a"
             ],
             [
              0.8888888888888888,
              "#fdca26"
             ],
             [
              1,
              "#f0f921"
             ]
            ],
            "type": "histogram2dcontour"
           }
          ],
          "mesh3d": [
           {
            "colorbar": {
             "outlinewidth": 0,
             "ticks": ""
            },
            "type": "mesh3d"
           }
          ],
          "parcoords": [
           {
            "line": {
             "colorbar": {
              "outlinewidth": 0,
              "ticks": ""
             }
            },
            "type": "parcoords"
           }
          ],
          "pie": [
           {
            "automargin": true,
            "type": "pie"
           }
          ],
          "scatter": [
           {
            "fillpattern": {
             "fillmode": "overlay",
             "size": 10,
             "solidity": 0.2
            },
            "type": "scatter"
           }
          ],
          "scatter3d": [
           {
            "line": {
             "colorbar": {
              "outlinewidth": 0,
              "ticks": ""
             }
            },
            "marker": {
             "colorbar": {
              "outlinewidth": 0,
              "ticks": ""
             }
            },
            "type": "scatter3d"
           }
          ],
          "scattercarpet": [
           {
            "marker": {
             "colorbar": {
              "outlinewidth": 0,
              "ticks": ""
             }
            },
            "type": "scattercarpet"
           }
          ],
          "scattergeo": [
           {
            "marker": {
             "colorbar": {
              "outlinewidth": 0,
              "ticks": ""
             }
            },
            "type": "scattergeo"
           }
          ],
          "scattergl": [
           {
            "marker": {
             "colorbar": {
              "outlinewidth": 0,
              "ticks": ""
             }
            },
            "type": "scattergl"
           }
          ],
          "scattermapbox": [
           {
            "marker": {
             "colorbar": {
              "outlinewidth": 0,
              "ticks": ""
             }
            },
            "type": "scattermapbox"
           }
          ],
          "scatterpolar": [
           {
            "marker": {
             "colorbar": {
              "outlinewidth": 0,
              "ticks": ""
             }
            },
            "type": "scatterpolar"
           }
          ],
          "scatterpolargl": [
           {
            "marker": {
             "colorbar": {
              "outlinewidth": 0,
              "ticks": ""
             }
            },
            "type": "scatterpolargl"
           }
          ],
          "scatterternary": [
           {
            "marker": {
             "colorbar": {
              "outlinewidth": 0,
              "ticks": ""
             }
            },
            "type": "scatterternary"
           }
          ],
          "surface": [
           {
            "colorbar": {
             "outlinewidth": 0,
             "ticks": ""
            },
            "colorscale": [
             [
              0,
              "#0d0887"
             ],
             [
              0.1111111111111111,
              "#46039f"
             ],
             [
              0.2222222222222222,
              "#7201a8"
             ],
             [
              0.3333333333333333,
              "#9c179e"
             ],
             [
              0.4444444444444444,
              "#bd3786"
             ],
             [
              0.5555555555555556,
              "#d8576b"
             ],
             [
              0.6666666666666666,
              "#ed7953"
             ],
             [
              0.7777777777777778,
              "#fb9f3a"
             ],
             [
              0.8888888888888888,
              "#fdca26"
             ],
             [
              1,
              "#f0f921"
             ]
            ],
            "type": "surface"
           }
          ],
          "table": [
           {
            "cells": {
             "fill": {
              "color": "#EBF0F8"
             },
             "line": {
              "color": "white"
             }
            },
            "header": {
             "fill": {
              "color": "#C8D4E3"
             },
             "line": {
              "color": "white"
             }
            },
            "type": "table"
           }
          ]
         },
         "layout": {
          "annotationdefaults": {
           "arrowcolor": "#2a3f5f",
           "arrowhead": 0,
           "arrowwidth": 1
          },
          "autotypenumbers": "strict",
          "coloraxis": {
           "colorbar": {
            "outlinewidth": 0,
            "ticks": ""
           }
          },
          "colorscale": {
           "diverging": [
            [
             0,
             "#8e0152"
            ],
            [
             0.1,
             "#c51b7d"
            ],
            [
             0.2,
             "#de77ae"
            ],
            [
             0.3,
             "#f1b6da"
            ],
            [
             0.4,
             "#fde0ef"
            ],
            [
             0.5,
             "#f7f7f7"
            ],
            [
             0.6,
             "#e6f5d0"
            ],
            [
             0.7,
             "#b8e186"
            ],
            [
             0.8,
             "#7fbc41"
            ],
            [
             0.9,
             "#4d9221"
            ],
            [
             1,
             "#276419"
            ]
           ],
           "sequential": [
            [
             0,
             "#0d0887"
            ],
            [
             0.1111111111111111,
             "#46039f"
            ],
            [
             0.2222222222222222,
             "#7201a8"
            ],
            [
             0.3333333333333333,
             "#9c179e"
            ],
            [
             0.4444444444444444,
             "#bd3786"
            ],
            [
             0.5555555555555556,
             "#d8576b"
            ],
            [
             0.6666666666666666,
             "#ed7953"
            ],
            [
             0.7777777777777778,
             "#fb9f3a"
            ],
            [
             0.8888888888888888,
             "#fdca26"
            ],
            [
             1,
             "#f0f921"
            ]
           ],
           "sequentialminus": [
            [
             0,
             "#0d0887"
            ],
            [
             0.1111111111111111,
             "#46039f"
            ],
            [
             0.2222222222222222,
             "#7201a8"
            ],
            [
             0.3333333333333333,
             "#9c179e"
            ],
            [
             0.4444444444444444,
             "#bd3786"
            ],
            [
             0.5555555555555556,
             "#d8576b"
            ],
            [
             0.6666666666666666,
             "#ed7953"
            ],
            [
             0.7777777777777778,
             "#fb9f3a"
            ],
            [
             0.8888888888888888,
             "#fdca26"
            ],
            [
             1,
             "#f0f921"
            ]
           ]
          },
          "colorway": [
           "#636efa",
           "#EF553B",
           "#00cc96",
           "#ab63fa",
           "#FFA15A",
           "#19d3f3",
           "#FF6692",
           "#B6E880",
           "#FF97FF",
           "#FECB52"
          ],
          "font": {
           "color": "#2a3f5f"
          },
          "geo": {
           "bgcolor": "white",
           "lakecolor": "white",
           "landcolor": "#E5ECF6",
           "showlakes": true,
           "showland": true,
           "subunitcolor": "white"
          },
          "hoverlabel": {
           "align": "left"
          },
          "hovermode": "closest",
          "mapbox": {
           "style": "light"
          },
          "paper_bgcolor": "white",
          "plot_bgcolor": "#E5ECF6",
          "polar": {
           "angularaxis": {
            "gridcolor": "white",
            "linecolor": "white",
            "ticks": ""
           },
           "bgcolor": "#E5ECF6",
           "radialaxis": {
            "gridcolor": "white",
            "linecolor": "white",
            "ticks": ""
           }
          },
          "scene": {
           "xaxis": {
            "backgroundcolor": "#E5ECF6",
            "gridcolor": "white",
            "gridwidth": 2,
            "linecolor": "white",
            "showbackground": true,
            "ticks": "",
            "zerolinecolor": "white"
           },
           "yaxis": {
            "backgroundcolor": "#E5ECF6",
            "gridcolor": "white",
            "gridwidth": 2,
            "linecolor": "white",
            "showbackground": true,
            "ticks": "",
            "zerolinecolor": "white"
           },
           "zaxis": {
            "backgroundcolor": "#E5ECF6",
            "gridcolor": "white",
            "gridwidth": 2,
            "linecolor": "white",
            "showbackground": true,
            "ticks": "",
            "zerolinecolor": "white"
           }
          },
          "shapedefaults": {
           "line": {
            "color": "#2a3f5f"
           }
          },
          "ternary": {
           "aaxis": {
            "gridcolor": "white",
            "linecolor": "white",
            "ticks": ""
           },
           "baxis": {
            "gridcolor": "white",
            "linecolor": "white",
            "ticks": ""
           },
           "bgcolor": "#E5ECF6",
           "caxis": {
            "gridcolor": "white",
            "linecolor": "white",
            "ticks": ""
           }
          },
          "title": {
           "x": 0.05
          },
          "xaxis": {
           "automargin": true,
           "gridcolor": "white",
           "linecolor": "white",
           "ticks": "",
           "title": {
            "standoff": 15
           },
           "zerolinecolor": "white",
           "zerolinewidth": 2
          },
          "yaxis": {
           "automargin": true,
           "gridcolor": "white",
           "linecolor": "white",
           "ticks": "",
           "title": {
            "standoff": 15
           },
           "zerolinecolor": "white",
           "zerolinewidth": 2
          }
         }
        },
        "title": {
         "text": "Average Course Rating by Organization Bottom-10"
        },
        "xaxis": {
         "anchor": "y",
         "domain": [
          0,
          1
         ],
         "range": [
          0,
          5
         ],
         "title": {
          "text": "Average Course Rating"
         }
        },
        "yaxis": {
         "anchor": "x",
         "domain": [
          0,
          1
         ],
         "title": {
          "text": "Course Organization"
         }
        }
       }
      }
     },
     "metadata": {},
     "output_type": "display_data"
    }
   ],
   "source": [
    "fig = px.bar(\n",
    "    x=grouped_data.tail(10),\n",
    "    y=grouped_data.tail(10).index,\n",
    "    title=\"Average Course Rating by Organization Bottom-10\",\n",
    ")\n",
    "fig.update_layout(\n",
    "    xaxis_title=\"Average Course Rating\", yaxis_title=\"Course Organization\"\n",
    ")\n",
    "fig.update_xaxes(range=[0, 5])"
   ]
  },
  {
   "cell_type": "markdown",
   "metadata": {},
   "source": [
    "The horizontal bar plots of course ratings by organization reveal that course ratings are consistently high across all organizations. Even the bottom 10 organizations maintain impressive ratings, with the lowest average rating being 4.275."
   ]
  },
  {
   "cell_type": "markdown",
   "metadata": {},
   "source": [
    "**Vertical bar chart** of Most Popular Courses (Top-15)"
   ]
  },
  {
   "cell_type": "code",
   "execution_count": 44,
   "metadata": {},
   "outputs": [
    {
     "data": {
      "image/png": "[encoded data removed]",
      "text/plain": [
       "<Figure size 640x480 with 1 Axes>"
      ]
     },
     "metadata": {},
     "output_type": "display_data"
    }
   ],
   "source": [
    "sns.barplot(\n",
    "    x=\"course_students_enrolled\",\n",
    "    y=\"course_title\",\n",
    "    hue=\"course_organization\",\n",
    "    data=df.nlargest(15, \"course_students_enrolled\"),\n",
    ")\n",
    "\n",
    "for i in range(len(df.nlargest(15, \"course_students_enrolled\"))):\n",
    "    value = df.nlargest(15, \"course_students_enrolled\")[\n",
    "        \"course_students_enrolled\"\n",
    "    ].iloc[i]\n",
    "    formatted_value = f\"{int(value):,}\"\n",
    "    plt.annotate(formatted_value, xy=(value, i), ha=\"right\", va=\"center\")\n",
    "\n",
    "plt.title(\"Most Popular Courses (by Student Enrollment)\")\n",
    "plt.xlabel(\"Student Enrollment\")\n",
    "plt.ylabel(\"Course Title\")\n",
    "plt.legend(title=\"Institution\");"
   ]
  },
  {
   "cell_type": "markdown",
   "metadata": {},
   "source": [
    "This horizontal bar chart that displays the most popular courses by student enrollment, along with their corresponding institutions. The most popular course in absolute terms is the Machine Learning course offered by Stanford University.\n",
    "\n",
    "Additionally, the University of Michigan provides two highly popular courses: “Python for Everybody” and “Programming for Everybody (Getting Started with Python).” Another notable course from the University of Michigan is “Successful Negotiation: Essential Strategies and Skills.” Overall, the University of Michigan appears to be a leader in creating popular courses that attract Coursera users.\n",
    "\n",
    "Other prominent institutions include Johns Hopkins University and DeepLearning.AI, which also offer widely enrolled courses."
   ]
  },
  {
   "cell_type": "markdown",
   "metadata": {},
   "source": [
    "## Evaluating the relationship between course rating and the count of students enrolled."
   ]
  },
  {
   "cell_type": "markdown",
   "metadata": {},
   "source": [
    "To get a better understanding of the distribution of the data we use **histograms** to visualize the distribution of the course_rating and course_students_enrolled columns:"
   ]
  },
  {
   "cell_type": "code",
   "execution_count": 66,
   "metadata": {},
   "outputs": [
    {
     "data": {
      "image/png": "[encoded data removed]",
      "text/plain": [
       "<Figure size 1200x600 with 2 Axes>"
      ]
     },
     "metadata": {},
     "output_type": "display_data"
    }
   ],
   "source": [
    "plt.figure(figsize=(12, 6))\n",
    "plt.subplot(1, 2, 1)\n",
    "sns.histplot(data=df, x=\"course_rating\", kde=True)\n",
    "plt.title(\"Course Rating Distribution\")\n",
    "plt.xlabel(\"Course Rating\")\n",
    "plt.subplot(1, 2, 2)\n",
    "sns.histplot(data=df, x=\"course_students_enrolled\")\n",
    "plt.title(\"Course Students Enrolled Distribution\")\n",
    "plt.xlabel(\"Course Students Enrolled (Thousands)\")\n",
    "plt.xlim(left=0, right=850_000)\n",
    "plt.gca().xaxis.set_major_formatter(\n",
    "    ticker.FuncFormatter(lambda x, p: int(int(x) / 1000))\n",
    ");"
   ]
  },
  {
   "cell_type": "markdown",
   "metadata": {},
   "source": [
    "From the graphs, we observe that the average course rating is quite high, with most values ranging between 4 and 5. This indicates that the majority of courses are rated either four or five stars. Regarding student enrollment, the distribution is highly skewed to the right due to the presence of outliers. A few courses have a significantly high number of enrolled students, with one course even reaching 3.2 million enrollments were omitted to enhance visibility. However, the majority of courses have up to half a million students enrolled."
   ]
  },
  {
   "cell_type": "markdown",
   "metadata": {},
   "source": [
    "**Scatter Plot:** To visualize the relationship between Course Rating and Course Students Enrolled"
   ]
  },
  {
   "cell_type": "code",
   "execution_count": 46,
   "metadata": {},
   "outputs": [
    {
     "data": {
      "image/png": "[encoded data removed]",
      "text/plain": [
       "<Figure size 640x480 with 1 Axes>"
      ]
     },
     "metadata": {},
     "output_type": "display_data"
    }
   ],
   "source": [
    "sns.regplot(\n",
    "    x=\"course_rating\",\n",
    "    y=\"course_students_enrolled\",\n",
    "    data=df,\n",
    "    scatter_kws={\"alpha\": 0.25},\n",
    ")\n",
    "plt.xlabel(\"Course Rating\")\n",
    "plt.ylabel(\"Course Students Enrolled (mln.)\")\n",
    "plt.title(\"Course Rating vs. Course Students Enrolled (with Regression Line)\");"
   ]
  },
  {
   "cell_type": "markdown",
   "metadata": {},
   "source": [
    "The scatter plot depicting course ratings against the number of students enrolled reveals a weak relationship between these variables. The regression line is nearly horizontal, indicating minimal correlation. Despite some outliers, the majority of data points fall between zero and half a million students enrolled, with course ratings predominantly between four and five stars."
   ]
  },
  {
   "cell_type": "markdown",
   "metadata": {},
   "source": [
    "To understand the relationships between the variables, let's calculate **correlation**"
   ]
  },
  {
   "cell_type": "code",
   "execution_count": 47,
   "metadata": {},
   "outputs": [
    {
     "name": "stdout",
     "output_type": "stream",
     "text": [
      "Correlation is 0.07109035671526535 \n",
      "P value is 0.03386072533795261\n"
     ]
    }
   ],
   "source": [
    "correlation, p_value = stats.pearsonr(\n",
    "    df[\"course_rating\"], df[\"course_students_enrolled\"]\n",
    ")\n",
    "print(f\"Correlation is {correlation} \")\n",
    "print(f\"P value is {p_value}\")"
   ]
  },
  {
   "cell_type": "markdown",
   "metadata": {},
   "source": [
    "## Evaluating the impact of the course difficulty to the course rating."
   ]
  },
  {
   "cell_type": "markdown",
   "metadata": {},
   "source": [
    "**Boxplot** for Course Rating by Difficulty and **Barplot** Difficulty by the Median of Students Enrolled"
   ]
  },
  {
   "cell_type": "code",
   "execution_count": 48,
   "metadata": {},
   "outputs": [
    {
     "data": {
      "image/png": "[encoded data removed]",
      "text/plain": [
       "<Figure size 1200x600 with 2 Axes>"
      ]
     },
     "metadata": {},
     "output_type": "display_data"
    }
   ],
   "source": [
    "difficulty_median = (\n",
    "    df.groupby(\"course_difficulty\")[\"course_students_enrolled\"].median().reset_index()\n",
    ")\n",
    "\n",
    "order = [\"Beginner\", \"Intermediate\", \"Mixed\", \"Advanced\"]\n",
    "\n",
    "plt.figure(figsize=(12, 6))\n",
    "plt.subplot(1, 2, 1)\n",
    "sns.boxplot(data=df, x=\"course_difficulty\", y=\"course_rating\", order=order)\n",
    "plt.title(\"Course Rating by Difficulty\")\n",
    "plt.xlabel(\"Course Difficulty\")\n",
    "plt.ylabel(\"Course Rating\")\n",
    "\n",
    "plt.subplot(1, 2, 2)\n",
    "sns.barplot(\n",
    "    difficulty_median, x=\"course_difficulty\", y=\"course_students_enrolled\", order=order\n",
    ")\n",
    "plt.title(\"Course Students Enrolled Median\")\n",
    "plt.ylabel(\"Course Students Enrolled\")\n",
    "plt.xlabel(\"Course Difficulty\")\n",
    "plt.subplots_adjust(wspace=0.25)\n",
    "plt.show()"
   ]
  },
  {
   "cell_type": "markdown",
   "metadata": {},
   "source": [
    "In this analysis, we utilized a box plot to visualize course ratings by difficulty level. The chart reveals that course ratings are generally consistent across all difficulty levels, with minor exceptions due to outliers in the beginner, mixed, and intermediate categories. The bar chart reveals a higher demand for mixed courses and slightly higher demand for advanced courses."
   ]
  },
  {
   "cell_type": "markdown",
   "metadata": {},
   "source": [
    "**Bar Plot:** To visualize the Distribution of Course Difficulty by Course Count"
   ]
  },
  {
   "cell_type": "code",
   "execution_count": 69,
   "metadata": {},
   "outputs": [
    {
     "data": {
      "image/png": "[encoded data removed]",
      "text/plain": [
       "<Figure size 640x480 with 1 Axes>"
      ]
     },
     "metadata": {},
     "output_type": "display_data"
    }
   ],
   "source": [
    "df[\"course_difficulty\"].value_counts().plot(kind=\"bar\")\n",
    "plt.title(\"Distribution of Course Difficulty by Course Count\")\n",
    "plt.xlabel(\"Course Difficulty\")\n",
    "plt.ylabel(\"Count\");"
   ]
  },
  {
   "cell_type": "markdown",
   "metadata": {},
   "source": [
    "This bar chart of the course difficulty by course count reveals that a huge lack of advanced courses and it shows that a field of courses for beginners like white saturated professional Style"
   ]
  },
  {
   "cell_type": "markdown",
   "metadata": {},
   "source": [
    "**Heatmap** for Course Difficulty by Organization"
   ]
  },
  {
   "cell_type": "code",
   "execution_count": 50,
   "metadata": {},
   "outputs": [
    {
     "data": {
      "image/png": "[encoded data removed]",
      "text/plain": [
       "<Figure size 1200x1000 with 2 Axes>"
      ]
     },
     "metadata": {},
     "output_type": "display_data"
    }
   ],
   "source": [
    "df_top_25 = df[\n",
    "    df[\"course_organization\"].isin(\n",
    "        df[\"course_organization\"].value_counts().nlargest(25).index\n",
    "    )\n",
    "]\n",
    "\n",
    "pivot_table = pd.pivot_table(\n",
    "    df_top_25,\n",
    "    index=\"course_organization\",\n",
    "    columns=\"course_difficulty\",\n",
    "    aggfunc=\"size\",\n",
    "    fill_value=0,\n",
    ")\n",
    "pivot_table = pivot_table.sort_values(by=pivot_table.columns.tolist(), ascending=False)\n",
    "\n",
    "plt.figure(figsize=(12, 10))\n",
    "sns.heatmap(pivot_table, cmap=\"Blues\", annot=True)\n",
    "plt.title(\"Course Difficulty by Top 25 Organizations\")\n",
    "plt.xlabel(\"Course Difficulty\")\n",
    "plt.ylabel(\"Course Organization\");"
   ]
  },
  {
   "cell_type": "markdown",
   "metadata": {},
   "source": [
    "An analysis of the heatmap reveals significant trends in course distribution across different organizations and difficulty levels. The University of Pennsylvania, for instance, offers a substantial number of beginner-level and mixed-level courses. Moreover, the heatmap indicates a general bias towards beginner-level courses, with fewer advanced options available. "
   ]
  },
  {
   "cell_type": "markdown",
   "metadata": {},
   "source": [
    "**Treemap** for Course Difficulty by Organization"
   ]
  },
  {
   "cell_type": "code",
   "execution_count": 51,
   "metadata": {},
   "outputs": [
    {
     "data": {
      "application/vnd.plotly.v1+json": {
       "config": {
        "plotlyServerURL": "https://plot.ly"
       },
       "data": [
        {
         "branchvalues": "total",
         "customdata": [
          [
           1,
           4.7,
           17000
          ],
          [
           1,
           4.5,
           130000
          ],
          [
           1,
           4.5,
           80000
          ],
          [
           1,
           4.8,
           9900
          ],
          [
           1,
           4.7,
           110000
          ],
          [
           1,
           4.5,
           35000
          ],
          [
           1,
           4.8,
           14000
          ],
          [
           1,
           4.8,
           23000
          ],
          [
           1,
           4.8,
           30000
          ],
          [
           1,
           4.8,
           20000
          ],
          [
           1,
           4.8,
           8100
          ],
          [
           1,
           4.5,
           480000
          ],
          [
           1,
           4.6,
           150000
          ],
          [
           1,
           4.6,
           97000
          ],
          [
           1,
           4.5,
           4200
          ],
          [
           1,
           4.7,
           310000
          ],
          [
           1,
           4.5,
           3900
          ],
          [
           1,
           4.4,
           55000
          ],
          [
           1,
           4.6,
           2300
          ],
          [
           1,
           4.8,
           14000
          ],
          [
           1,
           4.5,
           7300
          ],
          [
           1,
           4.5,
           22000
          ],
          [
           1,
           4.6,
           5800
          ],
          [
           1,
           4.3,
           24000
          ],
          [
           1,
           4.6,
           280000
          ],
          [
           1,
           4.7,
           510000
          ],
          [
           1,
           4.7,
           24000
          ],
          [
           1,
           4.7,
           10000
          ],
          [
           1,
           4.5,
           160000
          ],
          [
           1,
           4.9,
           220000
          ],
          [
           1,
           4.6,
           82000
          ],
          [
           1,
           4.7,
           23000
          ],
          [
           1,
           4.7,
           310000
          ],
          [
           1,
           4.8,
           33000
          ],
          [
           1,
           4.6,
           17000
          ],
          [
           1,
           4.7,
           19000
          ],
          [
           1,
           4.4,
           3000
          ],
          [
           1,
           4.6,
           120000
          ],
          [
           1,
           4.6,
           120000
          ],
          [
           1,
           4.5,
           830000
          ],
          [
           1,
           4.5,
           140000
          ],
          [
           1,
           4.6,
           740000
          ],
          [
           1,
           4.4,
           210000
          ],
          [
           1,
           4.7,
           130000
          ],
          [
           1,
           4.7,
           18000
          ],
          [
           1,
           4.6,
           31000
          ],
          [
           1,
           4.7,
           4500
          ],
          [
           1,
           4.7,
           67000
          ],
          [
           1,
           4.6,
           16000
          ],
          [
           1,
           4.7,
           300000
          ],
          [
           1,
           4.8,
           4000
          ],
          [
           1,
           4.6,
           150000
          ],
          [
           1,
           4.9,
           3400
          ],
          [
           1,
           4.7,
           57000
          ],
          [
           1,
           4.8,
           12000
          ],
          [
           1,
           4.6,
           200000
          ],
          [
           1,
           4.8,
           230000
          ],
          [
           1,
           4.8,
           760000
          ],
          [
           1,
           4.8,
           130000
          ],
          [
           1,
           4.8,
           110000
          ],
          [
           1,
           4.5,
           7900
          ],
          [
           1,
           4.8,
           110000
          ],
          [
           1,
           4.8,
           86000
          ],
          [
           1,
           4.8,
           38000
          ],
          [
           1,
           4.7,
           31000
          ],
          [
           1,
           4.7,
           31000
          ],
          [
           1,
           4.7,
           14000
          ],
          [
           1,
           4.7,
           68000
          ],
          [
           1,
           4.7,
           83000
          ],
          [
           1,
           4.6,
           490000
          ],
          [
           1,
           4.5,
           170000
          ],
          [
           1,
           4.8,
           9700
          ],
          [
           1,
           4.7,
           12000
          ],
          [
           1,
           4.5,
           260000
          ],
          [
           1,
           4.5,
           10000
          ],
          [
           1,
           4.7,
           6500
          ],
          [
           1,
           4.7,
           36000
          ],
          [
           1,
           4.6,
           20000
          ],
          [
           1,
           4.8,
           14000
          ],
          [
           1,
           4.7,
           31000
          ],
          [
           1,
           4.8,
           89000
          ],
          [
           1,
           4.6,
           26000
          ],
          [
           1,
           4.6,
           30000
          ],
          [
           1,
           4.6,
           110000
          ],
          [
           1,
           4.6,
           25000
          ],
          [
           1,
           4.7,
           10000
          ],
          [
           1,
           4.8,
           110000
          ],
          [
           1,
           4.4,
           80000
          ],
          [
           1,
           4.5,
           75000
          ],
          [
           1,
           4.6,
           18000
          ],
          [
           1,
           4.8,
           7600
          ],
          [
           1,
           4.6,
           3800
          ],
          [
           1,
           4.6,
           120000
          ],
          [
           1,
           4.7,
           36000
          ],
          [
           1,
           4.8,
           260000
          ],
          [
           1,
           4.8,
           240000
          ],
          [
           1,
           4.5,
           8100
          ],
          [
           1,
           4.7,
           1700
          ],
          [
           1,
           4.5,
           34000
          ],
          [
           1,
           4.8,
           85000
          ],
          [
           1,
           4.6,
           9700
          ],
          [
           1,
           4.8,
           8700
          ],
          [
           1,
           4.8,
           84000
          ],
          [
           1,
           4.8,
           46000
          ],
          [
           1,
           4.6,
           130000
          ],
          [
           1,
           4.5,
           390000
          ],
          [
           1,
           4.8,
           25000
          ],
          [
           1,
           4.7,
           200000
          ],
          [
           1,
           4.8,
           74000
          ],
          [
           1,
           4.6,
           42000
          ],
          [
           1,
           4.7,
           220000
          ],
          [
           1,
           4.8,
           6000
          ],
          [
           1,
           4.8,
           220000
          ],
          [
           1,
           4.5,
           87000
          ],
          [
           1,
           4.7,
           160000
          ],
          [
           1,
           4.7,
           82000
          ],
          [
           1,
           4.2,
           76000
          ],
          [
           1,
           4.8,
           67000
          ],
          [
           1,
           4.8,
           4100
          ],
          [
           1,
           4.8,
           16000
          ],
          [
           1,
           4.8,
           110000
          ],
          [
           1,
           4.7,
           270000
          ],
          [
           1,
           4.6,
           380000
          ],
          [
           1,
           4.6,
           160000
          ],
          [
           1,
           4.7,
           220000
          ],
          [
           1,
           4.7,
           5900
          ],
          [
           1,
           4.6,
           58000
          ],
          [
           1,
           3.9,
           15000
          ],
          [
           1,
           4.5,
           72000
          ],
          [
           1,
           4.5,
           27000
          ],
          [
           1,
           4.2,
           280000
          ],
          [
           1,
           4.3,
           52000
          ],
          [
           1,
           4.9,
           170000
          ],
          [
           1,
           4.7,
           34000
          ],
          [
           1,
           4.8,
           130000
          ],
          [
           1,
           4.6,
           36000
          ],
          [
           1,
           4.7,
           9100
          ],
          [
           1,
           4.9,
           40000
          ],
          [
           1,
           4.8,
           21000
          ],
          [
           1,
           4.8,
           95000
          ],
          [
           1,
           4.7,
           290000
          ],
          [
           1,
           4.6,
           330000
          ],
          [
           1,
           4.8,
           57000
          ],
          [
           1,
           4.7,
           80000
          ],
          [
           1,
           4.8,
           8800
          ],
          [
           1,
           4.5,
           84000
          ],
          [
           1,
           4.8,
           23000
          ],
          [
           1,
           4.8,
           50000
          ],
          [
           1,
           4.6,
           40000
          ],
          [
           1,
           4.7,
           22000
          ],
          [
           1,
           4.6,
           250000
          ],
          [
           1,
           4.7,
           19000
          ],
          [
           1,
           4.8,
           1300000
          ],
          [
           1,
           4.8,
           190000
          ],
          [
           1,
           4.8,
           110000
          ],
          [
           1,
           4.7,
           21000
          ],
          [
           1,
           4.9,
           420000
          ],
          [
           1,
           4.8,
           26000
          ],
          [
           1,
           4.8,
           1500000
          ],
          [
           1,
           4.6,
           480000
          ],
          [
           1,
           4.7,
           24000
          ],
          [
           1,
           4.4,
           120000
          ],
          [
           1,
           4.7,
           300000
          ],
          [
           1,
           4.5,
           16000
          ],
          [
           1,
           4.8,
           20000
          ],
          [
           1,
           4.6,
           78000
          ],
          [
           1,
           4.8,
           16000
          ],
          [
           1,
           4.6,
           34000
          ],
          [
           1,
           4.7,
           220000
          ],
          [
           1,
           4.8,
           38000
          ],
          [
           1,
           4.8,
           750000
          ],
          [
           1,
           4.8,
           11000
          ],
          [
           1,
           4.9,
           33000
          ],
          [
           1,
           4.6,
           22000
          ],
          [
           1,
           4.6,
           420000
          ],
          [
           1,
           4.8,
           7200
          ],
          [
           1,
           4.9,
           9400
          ],
          [
           1,
           4.8,
           59000
          ],
          [
           1,
           4.6,
           200000
          ],
          [
           1,
           4.8,
           29000
          ],
          [
           1,
           4.7,
           30000
          ],
          [
           1,
           4.8,
           23000
          ],
          [
           1,
           4.8,
           220000
          ],
          [
           1,
           4.8,
           310000
          ],
          [
           1,
           4.7,
           150000
          ],
          [
           1,
           4.8,
           190000
          ],
          [
           1,
           4.8,
           120000
          ],
          [
           1,
           4.7,
           280000
          ],
          [
           1,
           4.8,
           6200
          ],
          [
           1,
           4.8,
           17000
          ],
          [
           1,
           4.9,
           170000
          ],
          [
           1,
           4.5,
           51000
          ],
          [
           1,
           4.6183788151467295,
           2722700
          ],
          [
           1,
           4.587731322823852,
           145900
          ],
          [
           1,
           4.598226419932476,
           2339900
          ],
          [
           1,
           4.77322007468505,
           2436900
          ],
          [
           1,
           4.658960934353605,
           2483000
          ],
          [
           1,
           4.5,
           7900
          ],
          [
           1,
           4.659383567334054,
           2407400
          ],
          [
           1,
           4.524675324675325,
           770000
          ],
          [
           1,
           4.556675623800384,
           1302500
          ],
          [
           1,
           4.78271375464684,
           53800
          ],
          [
           1,
           4.556326148078726,
           1067000
          ],
          [
           1,
           4.686627417998318,
           1189000
          ],
          [
           1,
           4.800849038747533,
           3698300
          ],
          [
           1,
           4.724317760161916,
           2964500
          ],
          [
           1,
           4.613522028430285,
           3967600
          ],
          [
           1,
           4.65224820489191,
           2604300
          ],
          [
           1,
           4.609502430854405,
           4298900
          ],
          [
           1,
           4.749036664560281,
           7437700
          ],
          [
           1,
           4.69539018050279,
           5501300
          ]
         ],
         "domain": {
          "x": [
           0,
           1
          ],
          "y": [
           0,
           1
          ]
         },
         "hovertemplate": "<b>%{label}</b><br>Courses: %{customdata[0]}<br>Avg Rating: %{customdata[1]:.2f}<br>Students Enrolled: %{customdata[2]}<br><extra></extra>",
         "ids": [
          "University of Pennsylvania/Intermediate/A Crash Course in Causality:  Inferring Causal Effects from Observational Data",
          "Johns Hopkins University/Mixed/A Crash Course in Data Science",
          "University of Pennsylvania/Mixed/Accounting Analytics",
          "University of Michigan/Intermediate/Accounting for Decision Making",
          "University of Pennsylvania/Beginner/Achieving Personal and Professional Success",
          "Google Cloud/Advanced/Advanced Machine Learning with TensorFlow on Google Cloud Platform",
          "Duke University/Mixed/Advertising and Society",
          "University of Pennsylvania/Beginner/An Introduction to American Law",
          "University of Michigan/Beginner/Anatomy",
          "University of Michigan/Beginner/Anatomy: Musculoskeletal and Integumentary Systems",
          "University of Pennsylvania/Mixed/Ancient Philosophy: Aristotle and His Successors",
          "University of Michigan/Intermediate/Applied Data Science with Python",
          "University of Michigan/Intermediate/Applied Machine Learning in Python",
          "University of Michigan/Intermediate/Applied Plotting, Charting & Data Representation in Python",
          "Google Cloud/Intermediate/Architecting with Google Cloud Platform 日本語版",
          "Google Cloud/Intermediate/Architecting with Google Compute Engine",
          "Google Cloud/Beginner/Architecting with Google Kubernetes Engine 日本語版",
          "Duke University/Mixed/Behavioral Finance",
          "University of Michigan/Mixed/Beyond the Sustainable Development Goals (SDGs): Addressing Sustainability and Development",
          "Johns Hopkins University/Beginner/Biostatistics in Public Health",
          "Google Cloud/Intermediate/Building Batch Data Pipelines on GCP",
          "Google Cloud/Beginner/Building Conversational Experiences with Dialogflow",
          "Google Cloud/Intermediate/Building Resilient Streaming Analytics Systems on GCP",
          "Google Cloud/Intermediate/Building Scalable Java Microservices with Spring Boot and Spring Cloud",
          "University of Pennsylvania/Beginner/Business Analytics",
          "University of Pennsylvania/Beginner/Business Foundations",
          "University of Pennsylvania/Beginner/Business Strategies for A Better World",
          "Google Cloud/Beginner/Business Transformation with Google Cloud",
          "University of Pennsylvania/Beginner/Business and Financial Modeling",
          "Johns Hopkins University/Beginner/COVID-19 Contact Tracing",
          "University of Michigan/Mixed/Capstone: Retrieving, Processing, and Visualizing Data with Python",
          "Johns Hopkins University/Beginner/Chemicals and Health",
          "Google Cloud/Intermediate/Cloud Engineering with Google Cloud",
          "University of Pennsylvania/Beginner/Computational Thinking for Problem Solving",
          "University of Pennsylvania/Beginner/Culture-Driven Team Building",
          "University of Michigan/Intermediate/Data Collection and Processing with Python",
          "Google Cloud/Intermediate/Data Engineering on Google Cloud Platform 日本語版",
          "Google Cloud/Intermediate/Data Engineering with Google Cloud",
          "Google Cloud/Intermediate/Data Engineering, Big Data, and Machine Learning on GCP",
          "Johns Hopkins University/Beginner/Data Science",
          "Duke University/Beginner/Data Science Math Skills",
          "Johns Hopkins University/Beginner/Data Science: Foundations using R",
          "Johns Hopkins University/Intermediate/Data Science: Statistics and Machine Learning",
          "Duke University/Mixed/Data Visualization and Communication with Tableau",
          "Johns Hopkins University/Beginner/Data and Health Indicators in Public Health Practice",
          "University of Pennsylvania/Mixed/Decision-Making and Scenarios",
          "University of Michigan/Beginner/Dentistry 101",
          "Johns Hopkins University/Mixed/Design and Interpretation of Clinical Trials",
          "Google Cloud/Intermediate/Developing APIs with Google Cloud's Apigee API Platform",
          "Google Cloud/Intermediate/Developing Applications with Google Cloud Platform",
          "Google Cloud/Intermediate/Developing Applications with Google Cloud Platform 日本語版",
          "Duke University/Mixed/Dog Emotion and Cognition",
          "University of Pennsylvania/Mixed/Effective Compliance Programs",
          "Google Cloud/Intermediate/Elastic Google Cloud Infrastructure: Scaling and Automation",
          "Duke University/Beginner/Electric Industry Operations and Markets",
          "Duke University/Beginner/English Composition I",
          "University of Pennsylvania/Beginner/English for Business and Entrepreneurship",
          "University of Pennsylvania/Mixed/English for Career Development",
          "University of Pennsylvania/Mixed/English for Journalism",
          "University of Pennsylvania/Beginner/English for Science, Technology, Engineering, and Mathematics",
          "Duke University/Intermediate/Entrepreneurial Finance: Strategy and Innovation",
          "University of Pennsylvania/Beginner/Entrepreneurship",
          "University of Pennsylvania/Mixed/Entrepreneurship 1: Developing the Opportunity",
          "University of Pennsylvania/Mixed/Entrepreneurship 2: Launching your Start-Up",
          "University of Pennsylvania/Beginner/Entrepreneurship 3: Growth Strategies",
          "Johns Hopkins University/Beginner/Epidemiology in Public Health Practice",
          "Johns Hopkins University/Beginner/Essential Epidemiologic Tools for Public Health Practice",
          "Google Cloud/Intermediate/Essential Google Cloud Infrastructure: Core Services",
          "Google Cloud/Intermediate/Essential Google Cloud Infrastructure: Foundation",
          "Duke University/Beginner/Excel to MySQL: Analytic Techniques for Business",
          "Johns Hopkins University/Beginner/Executive Data Science",
          "Duke University/Beginner/FinTech Law and Policy",
          "University of Pennsylvania/Beginner/FinTech: Foundations, Payments, and Regulations",
          "University of Pennsylvania/Beginner/Finance & Quantitative Modeling for Analysts",
          "University of Pennsylvania/Beginner/Financial Acumen for Non-Financial Managers",
          "University of Michigan/Beginner/Financial Technology (Fintech) Innovations",
          "University of Michigan/Beginner/Finding Purpose and Meaning In Life: Living for What Matters Most",
          "University of Pennsylvania/Beginner/Fintech: Foundations & Applications of Financial Technology",
          "University of Michigan/Beginner/Foundational Finance for Strategic Decision Making",
          "Johns Hopkins University/Beginner/Foundations of Global Health",
          "University of Pennsylvania/Beginner/Foundations of Positive Psychology",
          "Google Cloud/Beginner/From Data to Insights with Google Cloud Platform",
          "Johns Hopkins University/Beginner/Fundamental Neuroscience for Neuroimaging",
          "University of Pennsylvania/Mixed/Fundamentals of Quantitative Modeling",
          "University of Pennsylvania/Beginner/Fundamentos Empresariales",
          "Google Cloud/Beginner/G Suite Administration",
          "University of Pennsylvania/Mixed/Gamification",
          "Johns Hopkins University/Intermediate/Genomic Data Science",
          "Google Cloud/Intermediate/Getting Started with Google Kubernetes Engine",
          "Google Cloud/Beginner/Getting Started with Google Sheets",
          "University of Pennsylvania/Mixed/Global Trends for Business and Society",
          "University of Michigan/Beginner/Good with Words: Writing and Editing",
          "Google Cloud/Intermediate/Google Cloud Platform Big Data and Machine Learning Fundamentals",
          "Google Cloud/Intermediate/Google Cloud Platform Fundamentals for AWS Professionals",
          "University of Pennsylvania/Mixed/Greek and Roman Mythology",
          "Johns Hopkins University/Mixed/HTML, CSS, and Javascript for Web Developers",
          "Johns Hopkins University/Beginner/Health Informatics",
          "University of Pennsylvania/Intermediate/Healthcare Law",
          "Google Cloud/Beginner/Industrial IoT on Google Cloud Platform",
          "University of Michigan/Mixed/Inspiring and Motivating Individuals",
          "University of Michigan/Intermediate/Instructional Methods in Health Professions Education",
          "University of Pennsylvania/Intermediate/Intellectual Property Law",
          "University of Michigan/Mixed/Introduction to CSS3",
          "Duke University/Beginner/Introduction to Chemistry:  Reactions and Ratios",
          "University of Pennsylvania/Mixed/Introduction to Corporate Finance",
          "University of Michigan/Intermediate/Introduction to Data Science in Python",
          "University of Pennsylvania/Beginner/Introduction to Dental Medicine",
          "University of Pennsylvania/Mixed/Introduction to Financial Accounting",
          "Duke University/Mixed/Introduction to Genetics and Evolution",
          "Johns Hopkins University/Mixed/Introduction to Genomic Technologies",
          "University of Michigan/Mixed/Introduction to HTML5",
          "University of Pennsylvania/Beginner/Introduction to Intellectual Property",
          "University of Pennsylvania/Mixed/Introduction to Marketing",
          "University of Pennsylvania/Mixed/Introduction to Operations Management",
          "Duke University/Beginner/Introduction to Probability and Data",
          "Duke University/Beginner/Introduction to Programming in C",
          "University of Pennsylvania/Mixed/Introduction to Spreadsheets and Models",
          "Johns Hopkins University/Mixed/Introduction to Systematic Review and Meta-Analysis",
          "University of Michigan/Beginner/Introduction to Thermodynamics: Transferring Energy from Here to There",
          "University of Michigan/Beginner/Introduction to User Experience Principles and Processes",
          "Johns Hopkins University/Beginner/Introduction to the Biology of Cancer",
          "Duke University/Mixed/Introductory Human Physiology",
          "Duke University/Beginner/Java Programming and Software Engineering Fundamentals",
          "Duke University/Beginner/Java Programming: Solving Problems with Software",
          "University of Michigan/Beginner/Leading People and Teams",
          "University of Michigan/Intermediate/Leading for Equity, Diversity and Inclusion in Higher Education",
          "Google Cloud/Intermediate/Machine Learning for Business Professionals",
          "Google Cloud/Intermediate/Machine Learning for Trading",
          "Google Cloud/Intermediate/Machine Learning with TensorFlow on Google Cloud Platform",
          "University of Pennsylvania/Beginner/Managing Social and Human Capital",
          "Duke University/Mixed/Mastering Data Analysis in Excel",
          "Johns Hopkins University/Beginner/Mastering Software Development in R",
          "Duke University/Advanced/Medical Neuroscience",
          "University of Pennsylvania/Mixed/Microeconomics: The Power of Markets",
          "University of Michigan/Mixed/Model Thinking",
          "University of Pennsylvania/Mixed/Modeling Risk and Realities",
          "Google Cloud/Intermediate/Modernizing Data Lakes and Data Warehouses with GCP",
          "University of Pennsylvania/Mixed/More Introduction to Financial Accounting",
          "Duke University/Mixed/Nanotechnology: A Maker’s Course",
          "University of Michigan/Mixed/Negociación exitosa: Estrategias y habilidades esenciales (en español)",
          "Google Cloud/Intermediate/Networking in Google Cloud",
          "Duke University/Beginner/Object Oriented Programming in Java",
          "Duke University/Mixed/Oil & Gas Industry Operations and Markets",
          "University of Pennsylvania/Mixed/Operations Analytics",
          "Johns Hopkins University/Beginner/Patient Safety",
          "University of Pennsylvania/Mixed/People Analytics",
          "University of Pennsylvania/Beginner/Positive Psychology: Applications and Interventions",
          "University of Pennsylvania/Beginner/Positive Psychology: Martin E. P. Seligman’s Visionary Science",
          "University of Pennsylvania/Beginner/Positive Psychology: Resilience Skills",
          "Google Cloud/Beginner/Preparing for the Google Cloud Associate Cloud Engineer Exam",
          "Duke University/Beginner/Programming Foundations with JavaScript, HTML and CSS",
          "Duke University/Beginner/Programming Fundamentals",
          "University of Michigan/Mixed/Programming for Everybody (Getting Started with Python)",
          "Johns Hopkins University/Mixed/Psychological First Aid",
          "University of Michigan/Beginner/Python Basics",
          "University of Michigan/Intermediate/Python Classes and Inheritance",
          "University of Michigan/Mixed/Python Data Structures",
          "University of Michigan/Beginner/Python Functions, Files, and Dictionaries",
          "University of Michigan/Beginner/Python for Everybody",
          "Johns Hopkins University/Intermediate/R Programming",
          "Duke University/Beginner/Renewable Energy and Green Building Entrepreneurship",
          "University of Pennsylvania/Beginner/Robotics",
          "Google Cloud/Intermediate/Security in Google Cloud Platform",
          "Google Cloud/Advanced/Site Reliability Engineering: Measuring and Managing Reliability",
          "University of Michigan/Beginner/Sleep: Neurobiology, Medicine, and Society",
          "University of Pennsylvania/Beginner/Social Norms, Social Change I",
          "Duke University/Mixed/Sports and Society",
          "University of Michigan/Beginner/Statistics with Python",
          "Duke University/Beginner/Statistics with R",
          "University of Pennsylvania/Beginner/Success",
          "University of Michigan/Mixed/Successful Negotiation: Essential Strategies and Skills",
          "Johns Hopkins University/Beginner/Summary Statistics in Public Health",
          "Johns Hopkins University/Mixed/Systems Thinking In Public Health",
          "University of Pennsylvania/Beginner/The Business of Health Care",
          "Johns Hopkins University/Mixed/The Data Scientist’s Toolbox",
          "University of Pennsylvania/Mixed/The Economics of Health Care Delivery",
          "University of Pennsylvania/Intermediate/The Oral Cavity: Portal to Health and Disease",
          "University of Michigan/Beginner/The Science of Success: What Researchers Know that You Should Know",
          "Duke University/Beginner/Think Again I: How to Understand Arguments",
          "Johns Hopkins University/Beginner/Understanding Cancer Metastasis",
          "University of Michigan/Beginner/Understanding and Visualizing Data with Python",
          "University of Michigan/Beginner/User Experience Research and Design",
          "University of Michigan/Mixed/Using Databases with Python",
          "University of Michigan/Mixed/Using Python to Access Web Data",
          "University of Pennsylvania/Mixed/Viral Marketing and How to Craft Contagious Content",
          "University of Pennsylvania/Mixed/Vital Signs: Understanding What the Body Is Telling Us",
          "University of Michigan/Intermediate/Web Applications for Everybody",
          "University of Michigan/Beginner/Web Design for Everybody: Basics of Web Development & Coding",
          "University of Pennsylvania/Mixed/What is Compliance?",
          "University of Pennsylvania/Intermediate/Wonders of Ancient Egypt",
          "Duke University/Advanced",
          "Google Cloud/Advanced",
          "Duke University/Beginner",
          "Google Cloud/Beginner",
          "Johns Hopkins University/Beginner",
          "University of Michigan/Beginner",
          "University of Pennsylvania/Beginner",
          "Duke University/Intermediate",
          "Google Cloud/Intermediate",
          "Johns Hopkins University/Intermediate",
          "University of Michigan/Intermediate",
          "University of Pennsylvania/Intermediate",
          "Duke University/Mixed",
          "Johns Hopkins University/Mixed",
          "University of Michigan/Mixed",
          "University of Pennsylvania/Mixed",
          "Duke University",
          "Google Cloud",
          "Johns Hopkins University",
          "University of Michigan",
          "University of Pennsylvania"
         ],
         "labels": [
          "A Crash Course in Causality:  Inferring Causal Effects from Observational Data",
          "A Crash Course in Data Science",
          "Accounting Analytics",
          "Accounting for Decision Making",
          "Achieving Personal and Professional Success",
          "Advanced Machine Learning with TensorFlow on Google Cloud Platform",
          "Advertising and Society",
          "An Introduction to American Law",
          "Anatomy",
          "Anatomy: Musculoskeletal and Integumentary Systems",
          "Ancient Philosophy: Aristotle and His Successors",
          "Applied Data Science with Python",
          "Applied Machine Learning in Python",
          "Applied Plotting, Charting & Data Representation in Python",
          "Architecting with Google Cloud Platform 日本語版",
          "Architecting with Google Compute Engine",
          "Architecting with Google Kubernetes Engine 日本語版",
          "Behavioral Finance",
          "Beyond the Sustainable Development Goals (SDGs): Addressing Sustainability and Development",
          "Biostatistics in Public Health",
          "Building Batch Data Pipelines on GCP",
          "Building Conversational Experiences with Dialogflow",
          "Building Resilient Streaming Analytics Systems on GCP",
          "Building Scalable Java Microservices with Spring Boot and Spring Cloud",
          "Business Analytics",
          "Business Foundations",
          "Business Strategies for A Better World",
          "Business Transformation with Google Cloud",
          "Business and Financial Modeling",
          "COVID-19 Contact Tracing",
          "Capstone: Retrieving, Processing, and Visualizing Data with Python",
          "Chemicals and Health",
          "Cloud Engineering with Google Cloud",
          "Computational Thinking for Problem Solving",
          "Culture-Driven Team Building",
          "Data Collection and Processing with Python",
          "Data Engineering on Google Cloud Platform 日本語版",
          "Data Engineering with Google Cloud",
          "Data Engineering, Big Data, and Machine Learning on GCP",
          "Data Science",
          "Data Science Math Skills",
          "Data Science: Foundations using R",
          "Data Science: Statistics and Machine Learning",
          "Data Visualization and Communication with Tableau",
          "Data and Health Indicators in Public Health Practice",
          "Decision-Making and Scenarios",
          "Dentistry 101",
          "Design and Interpretation of Clinical Trials",
          "Developing APIs with Google Cloud's Apigee API Platform",
          "Developing Applications with Google Cloud Platform",
          "Developing Applications with Google Cloud Platform 日本語版",
          "Dog Emotion and Cognition",
          "Effective Compliance Programs",
          "Elastic Google Cloud Infrastructure: Scaling and Automation",
          "Electric Industry Operations and Markets",
          "English Composition I",
          "English for Business and Entrepreneurship",
          "English for Career Development",
          "English for Journalism",
          "English for Science, Technology, Engineering, and Mathematics",
          "Entrepreneurial Finance: Strategy and Innovation",
          "Entrepreneurship",
          "Entrepreneurship 1: Developing the Opportunity",
          "Entrepreneurship 2: Launching your Start-Up",
          "Entrepreneurship 3: Growth Strategies",
          "Epidemiology in Public Health Practice",
          "Essential Epidemiologic Tools for Public Health Practice",
          "Essential Google Cloud Infrastructure: Core Services",
          "Essential Google Cloud Infrastructure: Foundation",
          "Excel to MySQL: Analytic Techniques for Business",
          "Executive Data Science",
          "FinTech Law and Policy",
          "FinTech: Foundations, Payments, and Regulations",
          "Finance & Quantitative Modeling for Analysts",
          "Financial Acumen for Non-Financial Managers",
          "Financial Technology (Fintech) Innovations",
          "Finding Purpose and Meaning In Life: Living for What Matters Most",
          "Fintech: Foundations & Applications of Financial Technology",
          "Foundational Finance for Strategic Decision Making",
          "Foundations of Global Health",
          "Foundations of Positive Psychology",
          "From Data to Insights with Google Cloud Platform",
          "Fundamental Neuroscience for Neuroimaging",
          "Fundamentals of Quantitative Modeling",
          "Fundamentos Empresariales",
          "G Suite Administration",
          "Gamification",
          "Genomic Data Science",
          "Getting Started with Google Kubernetes Engine",
          "Getting Started with Google Sheets",
          "Global Trends for Business and Society",
          "Good with Words: Writing and Editing",
          "Google Cloud Platform Big Data and Machine Learning Fundamentals",
          "Google Cloud Platform Fundamentals for AWS Professionals",
          "Greek and Roman Mythology",
          "HTML, CSS, and Javascript for Web Developers",
          "Health Informatics",
          "Healthcare Law",
          "Industrial IoT on Google Cloud Platform",
          "Inspiring and Motivating Individuals",
          "Instructional Methods in Health Professions Education",
          "Intellectual Property Law",
          "Introduction to CSS3",
          "Introduction to Chemistry:  Reactions and Ratios",
          "Introduction to Corporate Finance",
          "Introduction to Data Science in Python",
          "Introduction to Dental Medicine",
          "Introduction to Financial Accounting",
          "Introduction to Genetics and Evolution",
          "Introduction to Genomic Technologies",
          "Introduction to HTML5",
          "Introduction to Intellectual Property",
          "Introduction to Marketing",
          "Introduction to Operations Management",
          "Introduction to Probability and Data",
          "Introduction to Programming in C",
          "Introduction to Spreadsheets and Models",
          "Introduction to Systematic Review and Meta-Analysis",
          "Introduction to Thermodynamics: Transferring Energy from Here to There",
          "Introduction to User Experience Principles and Processes",
          "Introduction to the Biology of Cancer",
          "Introductory Human Physiology",
          "Java Programming and Software Engineering Fundamentals",
          "Java Programming: Solving Problems with Software",
          "Leading People and Teams",
          "Leading for Equity, Diversity and Inclusion in Higher Education",
          "Machine Learning for Business Professionals",
          "Machine Learning for Trading",
          "Machine Learning with TensorFlow on Google Cloud Platform",
          "Managing Social and Human Capital",
          "Mastering Data Analysis in Excel",
          "Mastering Software Development in R",
          "Medical Neuroscience",
          "Microeconomics: The Power of Markets",
          "Model Thinking",
          "Modeling Risk and Realities",
          "Modernizing Data Lakes and Data Warehouses with GCP",
          "More Introduction to Financial Accounting",
          "Nanotechnology: A Maker’s Course",
          "Negociación exitosa: Estrategias y habilidades esenciales (en español)",
          "Networking in Google Cloud",
          "Object Oriented Programming in Java",
          "Oil & Gas Industry Operations and Markets",
          "Operations Analytics",
          "Patient Safety",
          "People Analytics",
          "Positive Psychology: Applications and Interventions",
          "Positive Psychology: Martin E. P. Seligman’s Visionary Science",
          "Positive Psychology: Resilience Skills",
          "Preparing for the Google Cloud Associate Cloud Engineer Exam",
          "Programming Foundations with JavaScript, HTML and CSS",
          "Programming Fundamentals",
          "Programming for Everybody (Getting Started with Python)",
          "Psychological First Aid",
          "Python Basics",
          "Python Classes and Inheritance",
          "Python Data Structures",
          "Python Functions, Files, and Dictionaries",
          "Python for Everybody",
          "R Programming",
          "Renewable Energy and Green Building Entrepreneurship",
          "Robotics",
          "Security in Google Cloud Platform",
          "Site Reliability Engineering: Measuring and Managing Reliability",
          "Sleep: Neurobiology, Medicine, and Society",
          "Social Norms, Social Change I",
          "Sports and Society",
          "Statistics with Python",
          "Statistics with R",
          "Success",
          "Successful Negotiation: Essential Strategies and Skills",
          "Summary Statistics in Public Health",
          "Systems Thinking In Public Health",
          "The Business of Health Care",
          "The Data Scientist’s Toolbox",
          "The Economics of Health Care Delivery",
          "The Oral Cavity: Portal to Health and Disease",
          "The Science of Success: What Researchers Know that You Should Know",
          "Think Again I: How to Understand Arguments",
          "Understanding Cancer Metastasis",
          "Understanding and Visualizing Data with Python",
          "User Experience Research and Design",
          "Using Databases with Python",
          "Using Python to Access Web Data",
          "Viral Marketing and How to Craft Contagious Content",
          "Vital Signs: Understanding What the Body Is Telling Us",
          "Web Applications for Everybody",
          "Web Design for Everybody: Basics of Web Development & Coding",
          "What is Compliance?",
          "Wonders of Ancient Egypt",
          "Advanced",
          "Advanced",
          "Beginner",
          "Beginner",
          "Beginner",
          "Beginner",
          "Beginner",
          "Intermediate",
          "Intermediate",
          "Intermediate",
          "Intermediate",
          "Intermediate",
          "Mixed",
          "Mixed",
          "Mixed",
          "Mixed",
          "Duke University",
          "Google Cloud",
          "Johns Hopkins University",
          "University of Michigan",
          "University of Pennsylvania"
         ],
         "marker": {
          "coloraxis": "coloraxis",
          "colors": [
           4.7,
           4.5,
           4.5,
           4.8,
           4.7,
           4.5,
           4.8,
           4.8,
           4.8,
           4.8,
           4.8,
           4.5,
           4.6,
           4.6,
           4.5,
           4.7,
           4.5,
           4.4,
           4.6,
           4.8,
           4.5,
           4.5,
           4.6,
           4.3,
           4.6,
           4.7,
           4.7,
           4.7,
           4.5,
           4.9,
           4.6,
           4.7,
           4.7,
           4.8,
           4.6,
           4.7,
           4.4,
           4.6,
           4.6,
           4.5,
           4.5,
           4.6,
           4.4,
           4.7,
           4.7,
           4.6,
           4.7,
           4.7,
           4.6,
           4.7,
           4.8,
           4.6,
           4.9,
           4.7,
           4.8,
           4.6,
           4.8,
           4.8,
           4.8,
           4.8,
           4.5,
           4.8,
           4.8,
           4.8,
           4.7,
           4.7,
           4.7,
           4.7,
           4.7,
           4.6,
           4.5,
           4.8,
           4.7,
           4.5,
           4.5,
           4.7,
           4.7,
           4.6,
           4.8,
           4.7,
           4.8,
           4.6,
           4.6,
           4.6,
           4.6,
           4.7,
           4.8,
           4.4,
           4.5,
           4.6,
           4.8,
           4.6,
           4.6,
           4.7,
           4.8,
           4.8,
           4.5,
           4.7,
           4.5,
           4.8,
           4.6,
           4.8,
           4.8,
           4.8,
           4.6,
           4.5,
           4.8,
           4.7,
           4.8,
           4.6,
           4.7,
           4.8,
           4.8,
           4.5,
           4.7,
           4.7,
           4.2,
           4.8,
           4.8,
           4.8,
           4.8,
           4.7,
           4.6,
           4.6,
           4.7,
           4.7,
           4.6,
           3.9,
           4.5,
           4.5,
           4.2,
           4.3,
           4.9,
           4.7,
           4.8,
           4.6,
           4.7,
           4.9,
           4.8,
           4.8,
           4.7,
           4.6,
           4.8,
           4.7,
           4.8,
           4.5,
           4.8,
           4.8,
           4.6,
           4.7,
           4.6,
           4.7,
           4.8,
           4.8,
           4.8,
           4.7,
           4.9,
           4.8,
           4.8,
           4.6,
           4.7,
           4.4,
           4.7,
           4.5,
           4.8,
           4.6,
           4.8,
           4.6,
           4.7,
           4.8,
           4.8,
           4.8,
           4.9,
           4.6,
           4.6,
           4.8,
           4.9,
           4.8,
           4.6,
           4.8,
           4.7,
           4.8,
           4.8,
           4.8,
           4.7,
           4.8,
           4.8,
           4.7,
           4.8,
           4.8,
           4.9,
           4.5,
           4.6183788151467295,
           4.587731322823852,
           4.598226419932476,
           4.77322007468505,
           4.658960934353605,
           4.5,
           4.659383567334054,
           4.524675324675325,
           4.556675623800384,
           4.78271375464684,
           4.556326148078726,
           4.686627417998318,
           4.800849038747533,
           4.724317760161916,
           4.613522028430285,
           4.65224820489191,
           4.609502430854405,
           4.749036664560281,
           4.69539018050279
          ]
         },
         "name": "",
         "parents": [
          "University of Pennsylvania/Intermediate",
          "Johns Hopkins University/Mixed",
          "University of Pennsylvania/Mixed",
          "University of Michigan/Intermediate",
          "University of Pennsylvania/Beginner",
          "Google Cloud/Advanced",
          "Duke University/Mixed",
          "University of Pennsylvania/Beginner",
          "University of Michigan/Beginner",
          "University of Michigan/Beginner",
          "University of Pennsylvania/Mixed",
          "University of Michigan/Intermediate",
          "University of Michigan/Intermediate",
          "University of Michigan/Intermediate",
          "Google Cloud/Intermediate",
          "Google Cloud/Intermediate",
          "Google Cloud/Beginner",
          "Duke University/Mixed",
          "University of Michigan/Mixed",
          "Johns Hopkins University/Beginner",
          "Google Cloud/Intermediate",
          "Google Cloud/Beginner",
          "Google Cloud/Intermediate",
          "Google Cloud/Intermediate",
          "University of Pennsylvania/Beginner",
          "University of Pennsylvania/Beginner",
          "University of Pennsylvania/Beginner",
          "Google Cloud/Beginner",
          "University of Pennsylvania/Beginner",
          "Johns Hopkins University/Beginner",
          "University of Michigan/Mixed",
          "Johns Hopkins University/Beginner",
          "Google Cloud/Intermediate",
          "University of Pennsylvania/Beginner",
          "University of Pennsylvania/Beginner",
          "University of Michigan/Intermediate",
          "Google Cloud/Intermediate",
          "Google Cloud/Intermediate",
          "Google Cloud/Intermediate",
          "Johns Hopkins University/Beginner",
          "Duke University/Beginner",
          "Johns Hopkins University/Beginner",
          "Johns Hopkins University/Intermediate",
          "Duke University/Mixed",
          "Johns Hopkins University/Beginner",
          "University of Pennsylvania/Mixed",
          "University of Michigan/Beginner",
          "Johns Hopkins University/Mixed",
          "Google Cloud/Intermediate",
          "Google Cloud/Intermediate",
          "Google Cloud/Intermediate",
          "Duke University/Mixed",
          "University of Pennsylvania/Mixed",
          "Google Cloud/Intermediate",
          "Duke University/Beginner",
          "Duke University/Beginner",
          "University of Pennsylvania/Beginner",
          "University of Pennsylvania/Mixed",
          "University of Pennsylvania/Mixed",
          "University of Pennsylvania/Beginner",
          "Duke University/Intermediate",
          "University of Pennsylvania/Beginner",
          "University of Pennsylvania/Mixed",
          "University of Pennsylvania/Mixed",
          "University of Pennsylvania/Beginner",
          "Johns Hopkins University/Beginner",
          "Johns Hopkins University/Beginner",
          "Google Cloud/Intermediate",
          "Google Cloud/Intermediate",
          "Duke University/Beginner",
          "Johns Hopkins University/Beginner",
          "Duke University/Beginner",
          "University of Pennsylvania/Beginner",
          "University of Pennsylvania/Beginner",
          "University of Pennsylvania/Beginner",
          "University of Michigan/Beginner",
          "University of Michigan/Beginner",
          "University of Pennsylvania/Beginner",
          "University of Michigan/Beginner",
          "Johns Hopkins University/Beginner",
          "University of Pennsylvania/Beginner",
          "Google Cloud/Beginner",
          "Johns Hopkins University/Beginner",
          "University of Pennsylvania/Mixed",
          "University of Pennsylvania/Beginner",
          "Google Cloud/Beginner",
          "University of Pennsylvania/Mixed",
          "Johns Hopkins University/Intermediate",
          "Google Cloud/Intermediate",
          "Google Cloud/Beginner",
          "University of Pennsylvania/Mixed",
          "University of Michigan/Beginner",
          "Google Cloud/Intermediate",
          "Google Cloud/Intermediate",
          "University of Pennsylvania/Mixed",
          "Johns Hopkins University/Mixed",
          "Johns Hopkins University/Beginner",
          "University of Pennsylvania/Intermediate",
          "Google Cloud/Beginner",
          "University of Michigan/Mixed",
          "University of Michigan/Intermediate",
          "University of Pennsylvania/Intermediate",
          "University of Michigan/Mixed",
          "Duke University/Beginner",
          "University of Pennsylvania/Mixed",
          "University of Michigan/Intermediate",
          "University of Pennsylvania/Beginner",
          "University of Pennsylvania/Mixed",
          "Duke University/Mixed",
          "Johns Hopkins University/Mixed",
          "University of Michigan/Mixed",
          "University of Pennsylvania/Beginner",
          "University of Pennsylvania/Mixed",
          "University of Pennsylvania/Mixed",
          "Duke University/Beginner",
          "Duke University/Beginner",
          "University of Pennsylvania/Mixed",
          "Johns Hopkins University/Mixed",
          "University of Michigan/Beginner",
          "University of Michigan/Beginner",
          "Johns Hopkins University/Beginner",
          "Duke University/Mixed",
          "Duke University/Beginner",
          "Duke University/Beginner",
          "University of Michigan/Beginner",
          "University of Michigan/Intermediate",
          "Google Cloud/Intermediate",
          "Google Cloud/Intermediate",
          "Google Cloud/Intermediate",
          "University of Pennsylvania/Beginner",
          "Duke University/Mixed",
          "Johns Hopkins University/Beginner",
          "Duke University/Advanced",
          "University of Pennsylvania/Mixed",
          "University of Michigan/Mixed",
          "University of Pennsylvania/Mixed",
          "Google Cloud/Intermediate",
          "University of Pennsylvania/Mixed",
          "Duke University/Mixed",
          "University of Michigan/Mixed",
          "Google Cloud/Intermediate",
          "Duke University/Beginner",
          "Duke University/Mixed",
          "University of Pennsylvania/Mixed",
          "Johns Hopkins University/Beginner",
          "University of Pennsylvania/Mixed",
          "University of Pennsylvania/Beginner",
          "University of Pennsylvania/Beginner",
          "University of Pennsylvania/Beginner",
          "Google Cloud/Beginner",
          "Duke University/Beginner",
          "Duke University/Beginner",
          "University of Michigan/Mixed",
          "Johns Hopkins University/Mixed",
          "University of Michigan/Beginner",
          "University of Michigan/Intermediate",
          "University of Michigan/Mixed",
          "University of Michigan/Beginner",
          "University of Michigan/Beginner",
          "Johns Hopkins University/Intermediate",
          "Duke University/Beginner",
          "University of Pennsylvania/Beginner",
          "Google Cloud/Intermediate",
          "Google Cloud/Advanced",
          "University of Michigan/Beginner",
          "University of Pennsylvania/Beginner",
          "Duke University/Mixed",
          "University of Michigan/Beginner",
          "Duke University/Beginner",
          "University of Pennsylvania/Beginner",
          "University of Michigan/Mixed",
          "Johns Hopkins University/Beginner",
          "Johns Hopkins University/Mixed",
          "University of Pennsylvania/Beginner",
          "Johns Hopkins University/Mixed",
          "University of Pennsylvania/Mixed",
          "University of Pennsylvania/Intermediate",
          "University of Michigan/Beginner",
          "Duke University/Beginner",
          "Johns Hopkins University/Beginner",
          "University of Michigan/Beginner",
          "University of Michigan/Beginner",
          "University of Michigan/Mixed",
          "University of Michigan/Mixed",
          "University of Pennsylvania/Mixed",
          "University of Pennsylvania/Mixed",
          "University of Michigan/Intermediate",
          "University of Michigan/Beginner",
          "University of Pennsylvania/Mixed",
          "University of Pennsylvania/Intermediate",
          "Duke University",
          "Google Cloud",
          "Duke University",
          "Google Cloud",
          "Johns Hopkins University",
          "University of Michigan",
          "University of Pennsylvania",
          "Duke University",
          "Google Cloud",
          "Johns Hopkins University",
          "University of Michigan",
          "University of Pennsylvania",
          "Duke University",
          "Johns Hopkins University",
          "University of Michigan",
          "University of Pennsylvania",
          "",
          "",
          "",
          "",
          ""
         ],
         "type": "treemap",
         "values": [
          17000,
          130000,
          80000,
          9900,
          110000,
          35000,
          14000,
          23000,
          30000,
          20000,
          8100,
          480000,
          150000,
          97000,
          4200,
          310000,
          3900,
          55000,
          2300,
          14000,
          7300,
          22000,
          5800,
          24000,
          280000,
          510000,
          24000,
          10000,
          160000,
          220000,
          82000,
          23000,
          310000,
          33000,
          17000,
          19000,
          3000,
          120000,
          120000,
          830000,
          140000,
          740000,
          210000,
          130000,
          18000,
          31000,
          4500,
          67000,
          16000,
          300000,
          4000,
          150000,
          3400,
          57000,
          12000,
          200000,
          230000,
          760000,
          130000,
          110000,
          7900,
          110000,
          86000,
          38000,
          31000,
          31000,
          14000,
          68000,
          83000,
          490000,
          170000,
          9700,
          12000,
          260000,
          10000,
          6500,
          36000,
          20000,
          14000,
          31000,
          89000,
          26000,
          30000,
          110000,
          25000,
          10000,
          110000,
          80000,
          75000,
          18000,
          7600,
          3800,
          120000,
          36000,
          260000,
          240000,
          8100,
          1700,
          34000,
          85000,
          9700,
          8700,
          84000,
          46000,
          130000,
          390000,
          25000,
          200000,
          74000,
          42000,
          220000,
          6000,
          220000,
          87000,
          160000,
          82000,
          76000,
          67000,
          4100,
          16000,
          110000,
          270000,
          380000,
          160000,
          220000,
          5900,
          58000,
          15000,
          72000,
          27000,
          280000,
          52000,
          170000,
          34000,
          130000,
          36000,
          9100,
          40000,
          21000,
          95000,
          290000,
          330000,
          57000,
          80000,
          8800,
          84000,
          23000,
          50000,
          40000,
          22000,
          250000,
          19000,
          1300000,
          190000,
          110000,
          21000,
          420000,
          26000,
          1500000,
          480000,
          24000,
          120000,
          300000,
          16000,
          20000,
          78000,
          16000,
          34000,
          220000,
          38000,
          750000,
          11000,
          33000,
          22000,
          420000,
          7200,
          9400,
          59000,
          200000,
          29000,
          30000,
          23000,
          220000,
          310000,
          150000,
          190000,
          120000,
          280000,
          6200,
          17000,
          170000,
          51000,
          2722700,
          145900,
          2339900,
          2436900,
          2483000,
          7900,
          2407400,
          770000,
          1302500,
          53800,
          1067000,
          1189000,
          3698300,
          2964500,
          3967600,
          2604300,
          4298900,
          7437700,
          5501300
         ]
        }
       ],
       "layout": {
        "coloraxis": {
         "colorbar": {
          "title": {
           "text": "avg_rating"
          }
         },
         "colorscale": [
          [
           0,
           "rgb(158,1,66)"
          ],
          [
           0.1,
           "rgb(213,62,79)"
          ],
          [
           0.2,
           "rgb(244,109,67)"
          ],
          [
           0.3,
           "rgb(253,174,97)"
          ],
          [
           0.4,
           "rgb(254,224,139)"
          ],
          [
           0.5,
           "rgb(255,255,191)"
          ],
          [
           0.6,
           "rgb(230,245,152)"
          ],
          [
           0.7,
           "rgb(171,221,164)"
          ],
          [
           0.8,
           "rgb(102,194,165)"
          ],
          [
           0.9,
           "rgb(50,136,189)"
          ],
          [
           1,
           "rgb(94,79,162)"
          ]
         ]
        },
        "height": 800,
        "legend": {
         "tracegroupgap": 0
        },
        "margin": {
         "t": 60
        },
        "template": {
         "data": {
          "bar": [
           {
            "error_x": {
             "color": "#2a3f5f"
            },
            "error_y": {
             "color": "#2a3f5f"
            },
            "marker": {
             "line": {
              "color": "#E5ECF6",
              "width": 0.5
             },
             "pattern": {
              "fillmode": "overlay",
              "size": 10,
              "solidity": 0.2
             }
            },
            "type": "bar"
           }
          ],
          "barpolar": [
           {
            "marker": {
             "line": {
              "color": "#E5ECF6",
              "width": 0.5
             },
             "pattern": {
              "fillmode": "overlay",
              "size": 10,
              "solidity": 0.2
             }
            },
            "type": "barpolar"
           }
          ],
          "carpet": [
           {
            "aaxis": {
             "endlinecolor": "#2a3f5f",
             "gridcolor": "white",
             "linecolor": "white",
             "minorgridcolor": "white",
             "startlinecolor": "#2a3f5f"
            },
            "baxis": {
             "endlinecolor": "#2a3f5f",
             "gridcolor": "white",
             "linecolor": "white",
             "minorgridcolor": "white",
             "startlinecolor": "#2a3f5f"
            },
            "type": "carpet"
           }
          ],
          "choropleth": [
           {
            "colorbar": {
             "outlinewidth": 0,
             "ticks": ""
            },
            "type": "choropleth"
           }
          ],
          "contour": [
           {
            "colorbar": {
             "outlinewidth": 0,
             "ticks": ""
            },
            "colorscale": [
             [
              0,
              "#0d0887"
             ],
             [
              0.1111111111111111,
              "#46039f"
             ],
             [
              0.2222222222222222,
              "#7201a8"
             ],
             [
              0.3333333333333333,
              "#9c179e"
             ],
             [
              0.4444444444444444,
              "#bd3786"
             ],
             [
              0.5555555555555556,
              "#d8576b"
             ],
             [
              0.6666666666666666,
              "#ed7953"
             ],
             [
              0.7777777777777778,
              "#fb9f3a"
             ],
             [
              0.8888888888888888,
              "#fdca26"
             ],
             [
              1,
              "#f0f921"
             ]
            ],
            "type": "contour"
           }
          ],
          "contourcarpet": [
           {
            "colorbar": {
             "outlinewidth": 0,
             "ticks": ""
            },
            "type": "contourcarpet"
           }
          ],
          "heatmap": [
           {
            "colorbar": {
             "outlinewidth": 0,
             "ticks": ""
            },
            "colorscale": [
             [
              0,
              "#0d0887"
             ],
             [
              0.1111111111111111,
              "#46039f"
             ],
             [
              0.2222222222222222,
              "#7201a8"
             ],
             [
              0.3333333333333333,
              "#9c179e"
             ],
             [
              0.4444444444444444,
              "#bd3786"
             ],
             [
              0.5555555555555556,
              "#d8576b"
             ],
             [
              0.6666666666666666,
              "#ed7953"
             ],
             [
              0.7777777777777778,
              "#fb9f3a"
             ],
             [
              0.8888888888888888,
              "#fdca26"
             ],
             [
              1,
              "#f0f921"
             ]
            ],
            "type": "heatmap"
           }
          ],
          "heatmapgl": [
           {
            "colorbar": {
             "outlinewidth": 0,
             "ticks": ""
            },
            "colorscale": [
             [
              0,
              "#0d0887"
             ],
             [
              0.1111111111111111,
              "#46039f"
             ],
             [
              0.2222222222222222,
              "#7201a8"
             ],
             [
              0.3333333333333333,
              "#9c179e"
             ],
             [
              0.4444444444444444,
              "#bd3786"
             ],
             [
              0.5555555555555556,
              "#d8576b"
             ],
             [
              0.6666666666666666,
              "#ed7953"
             ],
             [
              0.7777777777777778,
              "#fb9f3a"
             ],
             [
              0.8888888888888888,
              "#fdca26"
             ],
             [
              1,
              "#f0f921"
             ]
            ],
            "type": "heatmapgl"
           }
          ],
          "histogram": [
           {
            "marker": {
             "pattern": {
              "fillmode": "overlay",
              "size": 10,
              "solidity": 0.2
             }
            },
            "type": "histogram"
           }
          ],
          "histogram2d": [
           {
            "colorbar": {
             "outlinewidth": 0,
             "ticks": ""
            },
            "colorscale": [
             [
              0,
              "#0d0887"
             ],
             [
              0.1111111111111111,
              "#46039f"
             ],
             [
              0.2222222222222222,
              "#7201a8"
             ],
             [
              0.3333333333333333,
              "#9c179e"
             ],
             [
              0.4444444444444444,
              "#bd3786"
             ],
             [
              0.5555555555555556,
              "#d8576b"
             ],
             [
              0.6666666666666666,
              "#ed7953"
             ],
             [
              0.7777777777777778,
              "#fb9f3a"
             ],
             [
              0.8888888888888888,
              "#fdca26"
             ],
             [
              1,
              "#f0f921"
             ]
            ],
            "type": "histogram2d"
           }
          ],
          "histogram2dcontour": [
           {
            "colorbar": {
             "outlinewidth": 0,
             "ticks": ""
            },
            "colorscale": [
             [
              0,
              "#0d0887"
             ],
             [
              0.1111111111111111,
              "#46039f"
             ],
             [
              0.2222222222222222,
              "#7201a8"
             ],
             [
              0.3333333333333333,
              "#9c179e"
             ],
             [
              0.4444444444444444,
              "#bd3786"
             ],
             [
              0.5555555555555556,
              "#d8576b"
             ],
             [
              0.6666666666666666,
              "#ed7953"
             ],
             [
              0.7777777777777778,
              "#fb9f3a"
             ],
             [
              0.8888888888888888,
              "#fdca26"
             ],
             [
              1,
              "#f0f921"
             ]
            ],
            "type": "histogram2dcontour"
           }
          ],
          "mesh3d": [
           {
            "colorbar": {
             "outlinewidth": 0,
             "ticks": ""
            },
            "type": "mesh3d"
           }
          ],
          "parcoords": [
           {
            "line": {
             "colorbar": {
              "outlinewidth": 0,
              "ticks": ""
             }
            },
            "type": "parcoords"
           }
          ],
          "pie": [
           {
            "automargin": true,
            "type": "pie"
           }
          ],
          "scatter": [
           {
            "fillpattern": {
             "fillmode": "overlay",
             "size": 10,
             "solidity": 0.2
            },
            "type": "scatter"
           }
          ],
          "scatter3d": [
           {
            "line": {
             "colorbar": {
              "outlinewidth": 0,
              "ticks": ""
             }
            },
            "marker": {
             "colorbar": {
              "outlinewidth": 0,
              "ticks": ""
             }
            },
            "type": "scatter3d"
           }
          ],
          "scattercarpet": [
           {
            "marker": {
             "colorbar": {
              "outlinewidth": 0,
              "ticks": ""
             }
            },
            "type": "scattercarpet"
           }
          ],
          "scattergeo": [
           {
            "marker": {
             "colorbar": {
              "outlinewidth": 0,
              "ticks": ""
             }
            },
            "type": "scattergeo"
           }
          ],
          "scattergl": [
           {
            "marker": {
             "colorbar": {
              "outlinewidth": 0,
              "ticks": ""
             }
            },
            "type": "scattergl"
           }
          ],
          "scattermapbox": [
           {
            "marker": {
             "colorbar": {
              "outlinewidth": 0,
              "ticks": ""
             }
            },
            "type": "scattermapbox"
           }
          ],
          "scatterpolar": [
           {
            "marker": {
             "colorbar": {
              "outlinewidth": 0,
              "ticks": ""
             }
            },
            "type": "scatterpolar"
           }
          ],
          "scatterpolargl": [
           {
            "marker": {
             "colorbar": {
              "outlinewidth": 0,
              "ticks": ""
             }
            },
            "type": "scatterpolargl"
           }
          ],
          "scatterternary": [
           {
            "marker": {
             "colorbar": {
              "outlinewidth": 0,
              "ticks": ""
             }
            },
            "type": "scatterternary"
           }
          ],
          "surface": [
           {
            "colorbar": {
             "outlinewidth": 0,
             "ticks": ""
            },
            "colorscale": [
             [
              0,
              "#0d0887"
             ],
             [
              0.1111111111111111,
              "#46039f"
             ],
             [
              0.2222222222222222,
              "#7201a8"
             ],
             [
              0.3333333333333333,
              "#9c179e"
             ],
             [
              0.4444444444444444,
              "#bd3786"
             ],
             [
              0.5555555555555556,
              "#d8576b"
             ],
             [
              0.6666666666666666,
              "#ed7953"
             ],
             [
              0.7777777777777778,
              "#fb9f3a"
             ],
             [
              0.8888888888888888,
              "#fdca26"
             ],
             [
              1,
              "#f0f921"
             ]
            ],
            "type": "surface"
           }
          ],
          "table": [
           {
            "cells": {
             "fill": {
              "color": "#EBF0F8"
             },
             "line": {
              "color": "white"
             }
            },
            "header": {
             "fill": {
              "color": "#C8D4E3"
             },
             "line": {
              "color": "white"
             }
            },
            "type": "table"
           }
          ]
         },
         "layout": {
          "annotationdefaults": {
           "arrowcolor": "#2a3f5f",
           "arrowhead": 0,
           "arrowwidth": 1
          },
          "autotypenumbers": "strict",
          "coloraxis": {
           "colorbar": {
            "outlinewidth": 0,
            "ticks": ""
           }
          },
          "colorscale": {
           "diverging": [
            [
             0,
             "#8e0152"
            ],
            [
             0.1,
             "#c51b7d"
            ],
            [
             0.2,
             "#de77ae"
            ],
            [
             0.3,
             "#f1b6da"
            ],
            [
             0.4,
             "#fde0ef"
            ],
            [
             0.5,
             "#f7f7f7"
            ],
            [
             0.6,
             "#e6f5d0"
            ],
            [
             0.7,
             "#b8e186"
            ],
            [
             0.8,
             "#7fbc41"
            ],
            [
             0.9,
             "#4d9221"
            ],
            [
             1,
             "#276419"
            ]
           ],
           "sequential": [
            [
             0,
             "#0d0887"
            ],
            [
             0.1111111111111111,
             "#46039f"
            ],
            [
             0.2222222222222222,
             "#7201a8"
            ],
            [
             0.3333333333333333,
             "#9c179e"
            ],
            [
             0.4444444444444444,
             "#bd3786"
            ],
            [
             0.5555555555555556,
             "#d8576b"
            ],
            [
             0.6666666666666666,
             "#ed7953"
            ],
            [
             0.7777777777777778,
             "#fb9f3a"
            ],
            [
             0.8888888888888888,
             "#fdca26"
            ],
            [
             1,
             "#f0f921"
            ]
           ],
           "sequentialminus": [
            [
             0,
             "#0d0887"
            ],
            [
             0.1111111111111111,
             "#46039f"
            ],
            [
             0.2222222222222222,
             "#7201a8"
            ],
            [
             0.3333333333333333,
             "#9c179e"
            ],
            [
             0.4444444444444444,
             "#bd3786"
            ],
            [
             0.5555555555555556,
             "#d8576b"
            ],
            [
             0.6666666666666666,
             "#ed7953"
            ],
            [
             0.7777777777777778,
             "#fb9f3a"
            ],
            [
             0.8888888888888888,
             "#fdca26"
            ],
            [
             1,
             "#f0f921"
            ]
           ]
          },
          "colorway": [
           "#636efa",
           "#EF553B",
           "#00cc96",
           "#ab63fa",
           "#FFA15A",
           "#19d3f3",
           "#FF6692",
           "#B6E880",
           "#FF97FF",
           "#FECB52"
          ],
          "font": {
           "color": "#2a3f5f"
          },
          "geo": {
           "bgcolor": "white",
           "lakecolor": "white",
           "landcolor": "#E5ECF6",
           "showlakes": true,
           "showland": true,
           "subunitcolor": "white"
          },
          "hoverlabel": {
           "align": "left"
          },
          "hovermode": "closest",
          "mapbox": {
           "style": "light"
          },
          "paper_bgcolor": "white",
          "plot_bgcolor": "#E5ECF6",
          "polar": {
           "angularaxis": {
            "gridcolor": "white",
            "linecolor": "white",
            "ticks": ""
           },
           "bgcolor": "#E5ECF6",
           "radialaxis": {
            "gridcolor": "white",
            "linecolor": "white",
            "ticks": ""
           }
          },
          "scene": {
           "xaxis": {
            "backgroundcolor": "#E5ECF6",
            "gridcolor": "white",
            "gridwidth": 2,
            "linecolor": "white",
            "showbackground": true,
            "ticks": "",
            "zerolinecolor": "white"
           },
           "yaxis": {
            "backgroundcolor": "#E5ECF6",
            "gridcolor": "white",
            "gridwidth": 2,
            "linecolor": "white",
            "showbackground": true,
            "ticks": "",
            "zerolinecolor": "white"
           },
           "zaxis": {
            "backgroundcolor": "#E5ECF6",
            "gridcolor": "white",
            "gridwidth": 2,
            "linecolor": "white",
            "showbackground": true,
            "ticks": "",
            "zerolinecolor": "white"
           }
          },
          "shapedefaults": {
           "line": {
            "color": "#2a3f5f"
           }
          },
          "ternary": {
           "aaxis": {
            "gridcolor": "white",
            "linecolor": "white",
            "ticks": ""
           },
           "baxis": {
            "gridcolor": "white",
            "linecolor": "white",
            "ticks": ""
           },
           "bgcolor": "#E5ECF6",
           "caxis": {
            "gridcolor": "white",
            "linecolor": "white",
            "ticks": ""
           }
          },
          "title": {
           "x": 0.05
          },
          "xaxis": {
           "automargin": true,
           "gridcolor": "white",
           "linecolor": "white",
           "ticks": "",
           "title": {
            "standoff": 15
           },
           "zerolinecolor": "white",
           "zerolinewidth": 2
          },
          "yaxis": {
           "automargin": true,
           "gridcolor": "white",
           "linecolor": "white",
           "ticks": "",
           "title": {
            "standoff": 15
           },
           "zerolinecolor": "white",
           "zerolinewidth": 2
          }
         }
        },
        "title": {
         "text": "Course Difficulty by Organization (Top-5 Most Productive Organizations)"
        },
        "width": 1000
       }
      }
     },
     "metadata": {},
     "output_type": "display_data"
    }
   ],
   "source": [
    "df_top_5 = df[\n",
    "    df[\"course_organization\"].isin(\n",
    "        df[\"course_organization\"].value_counts().nlargest(5).index\n",
    "    )\n",
    "]\n",
    "\n",
    "grouped = (\n",
    "    df_top_5.groupby([\"course_organization\", \"course_difficulty\", \"course_title\"])\n",
    "    .agg(\n",
    "        count=(\"course_title\", \"count\"),\n",
    "        avg_rating=(\"course_rating\", \"mean\"),\n",
    "        students=(\"course_students_enrolled\", \"first\"),\n",
    "    )\n",
    "    .reset_index()\n",
    "    .sort_values(\"count\", ascending=False)\n",
    ")\n",
    "\n",
    "\n",
    "fig = px.treemap(\n",
    "    grouped,\n",
    "    path=[\"course_organization\", \"course_difficulty\", \"course_title\"],\n",
    "    values=\"students\",\n",
    "    color=\"avg_rating\",\n",
    "    color_continuous_scale=\"spectral\",\n",
    "    hover_data=[\"count\", \"avg_rating\", \"students\"],\n",
    "    custom_data=[\"count\", \"avg_rating\", \"students\"],\n",
    ")\n",
    "\n",
    "fig.update_traces(\n",
    "    hovertemplate=\"<b>%{label}</b><br>\"\n",
    "    \"Courses: %{customdata[0]}<br>\"\n",
    "    \"Avg Rating: %{customdata[1]:.2f}<br>\"\n",
    "    \"Students Enrolled: %{customdata[2]}<br>\"\n",
    "    \"<extra></extra>\"\n",
    ")\n",
    "\n",
    "fig.update_layout(\n",
    "    title=\"Course Difficulty by Organization (Top-5 Most Productive Organizations)\",\n",
    "    width=1000,\n",
    "    height=800,\n",
    ")"
   ]
  },
  {
   "cell_type": "markdown",
   "metadata": {},
   "source": [
    "This treemap illustrates course difficulty by organization, as well as average course ratings, providing a multivariate analysis perspective. Notably, Google Cloud offers the largest number of intermediate difficulty courses. Similarly, the University of Pennsylvania has a significant number of mixed and beginner courses.\n",
    "\n",
    "It is also noteworthy that advanced courses are limited, with only a few being offered by Google Cloud and the Duke University. The small size of the squares representing these advanced courses indicates their relatively low quantity.\n",
    "\n",
    "The course ratings are depicted in different colors, but the variations are subtle, suggesting that the ratings are quite similar across different segments."
   ]
  },
  {
   "cell_type": "markdown",
   "metadata": {},
   "source": [
    "## Evaluating the impact of the course Certificate type to the Course Rating."
   ]
  },
  {
   "cell_type": "markdown",
   "metadata": {},
   "source": [
    "**Violin Plot** for Course Rating by Certificate Type **Barplot** Certificate type by the Median of Students Enrolled"
   ]
  },
  {
   "cell_type": "code",
   "execution_count": 52,
   "metadata": {},
   "outputs": [
    {
     "data": {
      "image/png": "[encoded data removed]",
      "text/plain": [
       "<Figure size 1200x600 with 2 Axes>"
      ]
     },
     "metadata": {},
     "output_type": "display_data"
    }
   ],
   "source": [
    "certificate_type_median = (\n",
    "    df.groupby(\"course_Certificate_type\")[\"course_students_enrolled\"]\n",
    "    .median()\n",
    "    .reset_index()\n",
    ")\n",
    "\n",
    "certificate_colors = {\n",
    "    \"COURSE\": \"#1f77b4\",\n",
    "    \"SPECIALIZATION\": \"#ff7f0e\",\n",
    "    \"PROFESSIONAL CERTIFICATE\": \"#2ca02c\",\n",
    "}\n",
    "\n",
    "certificate_order = [\"COURSE\", \"SPECIALIZATION\", \"PROFESSIONAL CERTIFICATE\"]\n",
    "\n",
    "plt.figure(figsize=(12, 6))\n",
    "plt.subplot(1, 2, 1)\n",
    "sns.violinplot(\n",
    "    data=df, x=\"course_Certificate_type\", y=\"course_rating\", palette=certificate_colors\n",
    ")\n",
    "plt.title(\"Course Rating by Certificate Type\")\n",
    "plt.xlabel(\"Certificate Type\")\n",
    "plt.ylabel(\"Course Rating\")\n",
    "plt.xticks(\n",
    "    ticks=[0, 1, 2], labels=[\"COURSE\", \"SPECIALIZATION\", \"PROFESSIONAL\\nCERTIFICATE\"]\n",
    ")\n",
    "\n",
    "plt.subplot(1, 2, 2)\n",
    "sns.barplot(\n",
    "    data=certificate_type_median,\n",
    "    x=\"course_Certificate_type\",\n",
    "    y=\"course_students_enrolled\",\n",
    "    palette=certificate_colors,\n",
    "    order=certificate_order,\n",
    ")\n",
    "plt.title(\"Course Students Enrolled Median\")\n",
    "plt.ylabel(\"Course Students Enrolled\")\n",
    "plt.xlabel(\"Certificate Type\")\n",
    "plt.xticks(\n",
    "    ticks=[0, 1, 2], labels=[\"COURSE\", \"SPECIALIZATION\", \"PROFESSIONAL\\nCERTIFICATE\"]\n",
    ")\n",
    "\n",
    "plt.subplots_adjust(wspace=0.3)"
   ]
  },
  {
   "cell_type": "markdown",
   "metadata": {},
   "source": [
    "This violin plot illustrates course ratings by certificate type. The violin plot, similar to a box plot, provides additional information through kernel density estimation. From this chart, we observe that professional certificates exhibit no outliers, with course ratings consistently ranging between 4.5 and 5. The majority of these ratings cluster around 4.6, suggesting that professional certificate courses typically receive high ratings, often close to five stars.\n",
    "\n",
    "In contrast, courses have a wider range of ratings, including some lower outliers. This indicates that courses occasionally receive lower ratings compared to professional certificates and specialization certificates. However, the kernel density estimation reveals that the average rating for courses tends to be higher than that for professional and specialization certificates, indicating that most course ratings are relatively high. The bar plot reveals astounding demand for professional certificates."
   ]
  },
  {
   "cell_type": "markdown",
   "metadata": {},
   "source": [
    "**Pie chart** Distribution of Course Certificate by Types"
   ]
  },
  {
   "cell_type": "code",
   "execution_count": 53,
   "metadata": {},
   "outputs": [
    {
     "data": {
      "image/png": "[encoded data removed]",
      "text/plain": [
       "<Figure size 640x480 with 1 Axes>"
      ]
     },
     "metadata": {},
     "output_type": "display_data"
    }
   ],
   "source": [
    "df[\"course_Certificate_type\"].value_counts().plot(kind=\"pie\", autopct=\"%1.1f%%\")\n",
    "plt.title(\"Distribution of Course Certificate Types\")\n",
    "plt.axis(\"equal\")\n",
    "plt.ylabel(\"\");"
   ]
  },
  {
   "cell_type": "markdown",
   "metadata": {},
   "source": [
    "This pie chart shows the percentage of a certificate type so we can see that most of the type of courses which are two two thirds or 65.3% of all courses one for the specializations and only 1.3% are professional certificates rewrite this in professional Style"
   ]
  },
  {
   "cell_type": "markdown",
   "metadata": {},
   "source": [
    "**Stacked Bar Plot** for Course Certificate Types by Organization (Top-10)"
   ]
  },
  {
   "cell_type": "code",
   "execution_count": 54,
   "metadata": {},
   "outputs": [
    {
     "data": {
      "image/png": "[encoded data removed]",
      "text/plain": [
       "<Figure size 640x480 with 1 Axes>"
      ]
     },
     "metadata": {},
     "output_type": "display_data"
    }
   ],
   "source": [
    "df_top_10 = df[\n",
    "    df[\"course_organization\"].isin(\n",
    "        df[\"course_organization\"].value_counts().nlargest(10).index\n",
    "    )\n",
    "]\n",
    "\n",
    "pivot_table = pd.pivot_table(\n",
    "    df_top_10,\n",
    "    index=\"course_organization\",\n",
    "    columns=\"course_Certificate_type\",\n",
    "    values=\"course_title\",\n",
    "    aggfunc=\"count\",\n",
    ")\n",
    "\n",
    "\n",
    "pivot_table.plot(kind=\"barh\", stacked=True)\n",
    "\n",
    "for i, row in enumerate(pivot_table.iterrows()):\n",
    "    org, counts = row\n",
    "    for j, count in enumerate(counts):\n",
    "        percentage = (count / counts.sum()) * 100\n",
    "        if not np.isnan(counts.cumsum().iloc[j] - (count / 2)):\n",
    "            plt.text(\n",
    "                counts.cumsum().iloc[j] - (count / 2),\n",
    "                i,\n",
    "                f\"{percentage:.1f}%\",\n",
    "                ha=\"center\",\n",
    "                va=\"center\",\n",
    "            )\n",
    "        else:\n",
    "            continue\n",
    "\n",
    "\n",
    "plt.legend(loc=\"lower right\")\n",
    "plt.title(\"Course Certificate Types by Organization\")\n",
    "plt.xlabel(\"Count\")\n",
    "plt.ylabel(\"Course Organization\")\n",
    "plt.show();"
   ]
  },
  {
   "cell_type": "markdown",
   "metadata": {},
   "source": [
    "This horizontal stacked bar chart illustrates the distribution of course certificate types by organization. Notably, only free institutions such as Google Cloud, IBM, and the University of California offer professional certificates. While the majority of organizations focus primarily on providing courses, there are exceptions. For instance, the University of Illinois at Urbana-Champaign emphasize specialization over general courses."
   ]
  }
 ],
 "metadata": {
  "kernelspec": {
   "display_name": "Python 3",
   "language": "python",
   "name": "python3"
  },
  "language_info": {
   "codemirror_mode": {
    "name": "ipython",
    "version": 3
   },
   "file_extension": ".py",
   "mimetype": "text/x-python",
   "name": "python",
   "nbconvert_exporter": "python",
   "pygments_lexer": "ipython3",
   "version": "3.12.3"
  }
 },
 "nbformat": 4,
 "nbformat_minor": 2
}
