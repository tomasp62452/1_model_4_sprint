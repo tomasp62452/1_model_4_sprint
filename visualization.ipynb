{
 "cells": [
  {
   "cell_type": "markdown",
   "metadata": {},
   "source": [
    "# Exploratory data analysis and visualization of Coursera Course data set\n",
    "\n",
    "### Tasks:\n",
    "- Download the data from Kaggle.\n",
    "- Load the data using Pandas.\n",
    "- Perform data cleaning by:\n",
    "  - Handling missing values.\n",
    "  - Removing duplicate samples and features.\n",
    "  - Treating the outliers.\n",
    "- Perform exploratory data analysis. Your analysis should provide answers to these questions:\n",
    "  - How many observations are there in this dataset?\n",
    "  - How many features this dataset has?\n",
    "  - Which of the features are categorical?\n",
    "  - Which of the features are numeric?\n",
    "  - Are there any artists that have more than 1 popular track? If yes, which and how many?\n",
    "  - Who was the most popular artist?\n",
    "  - How many artists in total have their songs in the top 50?\n",
    "  - Are there any albums that have more than 1 popular track? If yes, which and how many?\n",
    "  - How many albums in total have their songs in the top 50?\n",
    "  - Which tracks have a danceability score above 0.7?\n",
    "  - Which tracks have a danceability score below 0.4?\n",
    "  - Which tracks have their loudness above -5?\n",
    "  - Which tracks have their loudness below -8?\n",
    "  - Which track is the longest?\n",
    "  - Which track is the shortest?\n",
    "  - Which genre is the most popular?\n",
    "  - Which genres have just one song on the top 50?\n",
    "  - How many genres in total are represented in the top 50?\n",
    "  - Which features are strongly positively correlated?\n",
    "  - Which features are strongly negatively correlated?\n",
    "  - Which features are not correlated?\n",
    "  - How does the danceability score compare between Pop, Hip-Hop/Rap, Dance/Electronic, and Alternative/Indie genres?\n",
    "  - How does the loudness score compare between Pop, Hip-Hop/Rap, Dance/Electronic, and Alternative/Indie genres?\n",
    "  - How does the acousticness score compare between Pop, Hip-Hop/Rap, Dance/Electronic, and Alternative/Indie genres?\n",
    "- Provide clear explanations in your notebook. Your explanations should inform the reader what you are trying to achieve, the results you got, and what these results mean.\n",
    "- Provide suggestions for how your analysis could be improved.\n"
   ]
  },
  {
   "cell_type": "markdown",
   "metadata": {},
   "source": [
    "### Importing libraries"
   ]
  },
  {
   "cell_type": "code",
   "execution_count": 130,
   "metadata": {},
   "outputs": [
    {
     "name": "stderr",
     "output_type": "stream",
     "text": [
      "[NbConvertApp] Converting notebook visualization.ipynb to script\n",
      "[NbConvertApp] Writing 625 bytes to visualization.py\n",
      "INFO: Not scanning for jupyter notebooks.\n",
      "WARNING: Import named \"matplotlib\" not found locally. Trying to resolve it at the PyPI server.\n",
      "WARNING: Import named \"matplotlib\" was resolved to \"matplotlib:3.9.2\" package (https://pypi.org/project/matplotlib/).\n",
      "Please, verify manually the final list of requirements.txt to avoid possible dependency confusions.\n",
      "WARNING: Import named \"numpy\" not found locally. Trying to resolve it at the PyPI server.\n",
      "WARNING: Import named \"numpy\" was resolved to \"numpy:2.0.1\" package (https://pypi.org/project/numpy/).\n",
      "Please, verify manually the final list of requirements.txt to avoid possible dependency confusions.\n",
      "WARNING: Import named \"pandas\" not found locally. Trying to resolve it at the PyPI server.\n",
      "WARNING: Import named \"pandas\" was resolved to \"pandas:2.2.2\" package (https://pypi.org/project/pandas/).\n",
      "Please, verify manually the final list of requirements.txt to avoid possible dependency confusions.\n",
      "WARNING: Import named \"seaborn\" not found locally. Trying to resolve it at the PyPI server.\n",
      "WARNING: Import named \"seaborn\" was resolved to \"seaborn:0.13.2\" package (https://pypi.org/project/seaborn/).\n",
      "Please, verify manually the final list of requirements.txt to avoid possible dependency confusions.\n",
      "INFO: Successfully saved requirements file in .\\requirements.txt\n"
     ]
    }
   ],
   "source": [
    "import pandas as pd\n",
    "import numpy as np\n",
    "import seaborn as sns\n",
    "import matplotlib.pyplot as plt\n",
    "\n",
    "\n",
    "\n",
    "#import os; print(os.getcwd())\n",
    "#!pipreqs c:\\Users\\blockchain\\Documents\\turing_college\n",
    "#!jupyter nbconvert --to script *.ipynb\n",
    "#!pipreqs ."
   ]
  },
  {
   "cell_type": "markdown",
   "metadata": {},
   "source": [
    "### Loading data from Kaggle"
   ]
  },
  {
   "cell_type": "code",
   "execution_count": 112,
   "metadata": {},
   "outputs": [
    {
     "name": "stdout",
     "output_type": "stream",
     "text": [
      "Dataset URL: https://www.kaggle.com/datasets/siddharthm1698/coursera-course-dataset\n"
     ]
    }
   ],
   "source": [
    "# An alternative way to download datasets from kaggle\n",
    "# For this you have to install: pip install kaggle \n",
    "# Create API token ~\\.kaggle\\kaggle.json\n",
    "\n",
    "import kaggle\n",
    "kaggle.api.authenticate()\n",
    "kaggle.api.dataset_download_files('siddharthm1698/coursera-course-dataset', path= '.', unzip=True)"
   ]
  },
  {
   "cell_type": "code",
   "execution_count": 113,
   "metadata": {},
   "outputs": [
    {
     "data": {
      "text/html": [
       "<div>\n",
       "<style scoped>\n",
       "    .dataframe tbody tr th:only-of-type {\n",
       "        vertical-align: middle;\n",
       "    }\n",
       "\n",
       "    .dataframe tbody tr th {\n",
       "        vertical-align: top;\n",
       "    }\n",
       "\n",
       "    .dataframe thead th {\n",
       "        text-align: right;\n",
       "    }\n",
       "</style>\n",
       "<table border=\"1\" class=\"dataframe\">\n",
       "  <thead>\n",
       "    <tr style=\"text-align: right;\">\n",
       "      <th></th>\n",
       "      <th>course_title</th>\n",
       "      <th>course_organization</th>\n",
       "      <th>course_Certificate_type</th>\n",
       "      <th>course_rating</th>\n",
       "      <th>course_difficulty</th>\n",
       "      <th>course_students_enrolled</th>\n",
       "    </tr>\n",
       "  </thead>\n",
       "  <tbody>\n",
       "    <tr>\n",
       "      <th>0</th>\n",
       "      <td>IBM Data Science</td>\n",
       "      <td>IBM</td>\n",
       "      <td>PROFESSIONAL CERTIFICATE</td>\n",
       "      <td>4.6</td>\n",
       "      <td>Beginner</td>\n",
       "      <td>480k</td>\n",
       "    </tr>\n",
       "    <tr>\n",
       "      <th>1</th>\n",
       "      <td>Introduction to Data Science</td>\n",
       "      <td>IBM</td>\n",
       "      <td>SPECIALIZATION</td>\n",
       "      <td>4.6</td>\n",
       "      <td>Beginner</td>\n",
       "      <td>310k</td>\n",
       "    </tr>\n",
       "    <tr>\n",
       "      <th>2</th>\n",
       "      <td>The Science of Well-Being</td>\n",
       "      <td>Yale University</td>\n",
       "      <td>COURSE</td>\n",
       "      <td>4.9</td>\n",
       "      <td>Mixed</td>\n",
       "      <td>2.5m</td>\n",
       "    </tr>\n",
       "    <tr>\n",
       "      <th>3</th>\n",
       "      <td>Python for Everybody</td>\n",
       "      <td>University of Michigan</td>\n",
       "      <td>SPECIALIZATION</td>\n",
       "      <td>4.8</td>\n",
       "      <td>Beginner</td>\n",
       "      <td>1.5m</td>\n",
       "    </tr>\n",
       "    <tr>\n",
       "      <th>4</th>\n",
       "      <td>Google IT Support</td>\n",
       "      <td>Google</td>\n",
       "      <td>PROFESSIONAL CERTIFICATE</td>\n",
       "      <td>4.8</td>\n",
       "      <td>Beginner</td>\n",
       "      <td>350k</td>\n",
       "    </tr>\n",
       "    <tr>\n",
       "      <th>...</th>\n",
       "      <td>...</td>\n",
       "      <td>...</td>\n",
       "      <td>...</td>\n",
       "      <td>...</td>\n",
       "      <td>...</td>\n",
       "      <td>...</td>\n",
       "    </tr>\n",
       "    <tr>\n",
       "      <th>886</th>\n",
       "      <td>Understanding Modern Finance</td>\n",
       "      <td>American Institute of Business and Economics</td>\n",
       "      <td>SPECIALIZATION</td>\n",
       "      <td>4.4</td>\n",
       "      <td>Intermediate</td>\n",
       "      <td>11k</td>\n",
       "    </tr>\n",
       "    <tr>\n",
       "      <th>887</th>\n",
       "      <td>Object-Oriented Design</td>\n",
       "      <td>University of Alberta</td>\n",
       "      <td>COURSE</td>\n",
       "      <td>4.7</td>\n",
       "      <td>Intermediate</td>\n",
       "      <td>33k</td>\n",
       "    </tr>\n",
       "    <tr>\n",
       "      <th>888</th>\n",
       "      <td>Aprende a programar con Python</td>\n",
       "      <td>Universidad Austral</td>\n",
       "      <td>SPECIALIZATION</td>\n",
       "      <td>4.2</td>\n",
       "      <td>Beginner</td>\n",
       "      <td>6.6k</td>\n",
       "    </tr>\n",
       "    <tr>\n",
       "      <th>889</th>\n",
       "      <td>Погружение в Python</td>\n",
       "      <td>Moscow Institute of Physics and Technology</td>\n",
       "      <td>COURSE</td>\n",
       "      <td>4.7</td>\n",
       "      <td>Intermediate</td>\n",
       "      <td>45k</td>\n",
       "    </tr>\n",
       "    <tr>\n",
       "      <th>890</th>\n",
       "      <td>Compassionate Leadership Through Service Learn...</td>\n",
       "      <td>University of Colorado Boulder</td>\n",
       "      <td>COURSE</td>\n",
       "      <td>4.9</td>\n",
       "      <td>Beginner</td>\n",
       "      <td>6.4k</td>\n",
       "    </tr>\n",
       "  </tbody>\n",
       "</table>\n",
       "<p>891 rows × 6 columns</p>\n",
       "</div>"
      ],
      "text/plain": [
       "                                          course_title  \\\n",
       "0                                     IBM Data Science   \n",
       "1                         Introduction to Data Science   \n",
       "2                            The Science of Well-Being   \n",
       "3                                 Python for Everybody   \n",
       "4                                    Google IT Support   \n",
       "..                                                 ...   \n",
       "886                       Understanding Modern Finance   \n",
       "887                             Object-Oriented Design   \n",
       "888                     Aprende a programar con Python   \n",
       "889                                Погружение в Python   \n",
       "890  Compassionate Leadership Through Service Learn...   \n",
       "\n",
       "                              course_organization   course_Certificate_type  \\\n",
       "0                                             IBM  PROFESSIONAL CERTIFICATE   \n",
       "1                                             IBM            SPECIALIZATION   \n",
       "2                                 Yale University                    COURSE   \n",
       "3                          University of Michigan            SPECIALIZATION   \n",
       "4                                          Google  PROFESSIONAL CERTIFICATE   \n",
       "..                                            ...                       ...   \n",
       "886  American Institute of Business and Economics            SPECIALIZATION   \n",
       "887                         University of Alberta                    COURSE   \n",
       "888                           Universidad Austral            SPECIALIZATION   \n",
       "889    Moscow Institute of Physics and Technology                    COURSE   \n",
       "890                University of Colorado Boulder                    COURSE   \n",
       "\n",
       "     course_rating course_difficulty course_students_enrolled  \n",
       "0              4.6          Beginner                     480k  \n",
       "1              4.6          Beginner                     310k  \n",
       "2              4.9             Mixed                     2.5m  \n",
       "3              4.8          Beginner                     1.5m  \n",
       "4              4.8          Beginner                     350k  \n",
       "..             ...               ...                      ...  \n",
       "886            4.4      Intermediate                      11k  \n",
       "887            4.7      Intermediate                      33k  \n",
       "888            4.2          Beginner                     6.6k  \n",
       "889            4.7      Intermediate                      45k  \n",
       "890            4.9          Beginner                     6.4k  \n",
       "\n",
       "[891 rows x 6 columns]"
      ]
     },
     "execution_count": 113,
     "metadata": {},
     "output_type": "execute_result"
    }
   ],
   "source": [
    "df = pd.read_csv('coursea_data.csv', index_col=0).sort_index()\n",
    "df"
   ]
  },
  {
   "cell_type": "markdown",
   "metadata": {},
   "source": [
    "### Data cleaning"
   ]
  },
  {
   "cell_type": "code",
   "execution_count": 114,
   "metadata": {},
   "outputs": [],
   "source": [
    "df['course_students_enrolled'] = (\n",
    "    df['course_students_enrolled']\n",
    "    .str.replace('k', '*1_000')\n",
    "    .str.replace('m', '*1_000_000')\n",
    "    .map(eval)\n",
    ")\n"
   ]
  },
  {
   "cell_type": "code",
   "execution_count": 115,
   "metadata": {},
   "outputs": [
    {
     "name": "stdout",
     "output_type": "stream",
     "text": [
      "<class 'pandas.core.frame.DataFrame'>\n",
      "Index: 891 entries, 0 to 890\n",
      "Data columns (total 6 columns):\n",
      " #   Column                    Non-Null Count  Dtype  \n",
      "---  ------                    --------------  -----  \n",
      " 0   course_title              891 non-null    object \n",
      " 1   course_organization       891 non-null    object \n",
      " 2   course_Certificate_type   891 non-null    object \n",
      " 3   course_rating             891 non-null    float64\n",
      " 4   course_difficulty         891 non-null    object \n",
      " 5   course_students_enrolled  891 non-null    float64\n",
      "dtypes: float64(2), object(4)\n",
      "memory usage: 48.7+ KB\n"
     ]
    }
   ],
   "source": [
    "df.info()"
   ]
  },
  {
   "cell_type": "markdown",
   "metadata": {},
   "source": [
    "No NaNs were found, so no actions were required."
   ]
  },
  {
   "cell_type": "code",
   "execution_count": 116,
   "metadata": {},
   "outputs": [
    {
     "data": {
      "text/html": [
       "<div>\n",
       "<style scoped>\n",
       "    .dataframe tbody tr th:only-of-type {\n",
       "        vertical-align: middle;\n",
       "    }\n",
       "\n",
       "    .dataframe tbody tr th {\n",
       "        vertical-align: top;\n",
       "    }\n",
       "\n",
       "    .dataframe thead th {\n",
       "        text-align: right;\n",
       "    }\n",
       "</style>\n",
       "<table border=\"1\" class=\"dataframe\">\n",
       "  <thead>\n",
       "    <tr style=\"text-align: right;\">\n",
       "      <th></th>\n",
       "      <th>course_rating</th>\n",
       "      <th>course_students_enrolled</th>\n",
       "    </tr>\n",
       "  </thead>\n",
       "  <tbody>\n",
       "    <tr>\n",
       "      <th>count</th>\n",
       "      <td>891</td>\n",
       "      <td>891</td>\n",
       "    </tr>\n",
       "    <tr>\n",
       "      <th>mean</th>\n",
       "      <td>4.68</td>\n",
       "      <td>90,552.08</td>\n",
       "    </tr>\n",
       "    <tr>\n",
       "      <th>std</th>\n",
       "      <td>0.16</td>\n",
       "      <td>181,936.45</td>\n",
       "    </tr>\n",
       "    <tr>\n",
       "      <th>min</th>\n",
       "      <td>3.3</td>\n",
       "      <td>1,500</td>\n",
       "    </tr>\n",
       "    <tr>\n",
       "      <th>25%</th>\n",
       "      <td>4.6</td>\n",
       "      <td>17,500</td>\n",
       "    </tr>\n",
       "    <tr>\n",
       "      <th>50%</th>\n",
       "      <td>4.7</td>\n",
       "      <td>42,000</td>\n",
       "    </tr>\n",
       "    <tr>\n",
       "      <th>75%</th>\n",
       "      <td>4.8</td>\n",
       "      <td>99,500</td>\n",
       "    </tr>\n",
       "    <tr>\n",
       "      <th>max</th>\n",
       "      <td>5</td>\n",
       "      <td>3,200,000</td>\n",
       "    </tr>\n",
       "  </tbody>\n",
       "</table>\n",
       "</div>"
      ],
      "text/plain": [
       "      course_rating course_students_enrolled\n",
       "count           891                      891\n",
       "mean           4.68                90,552.08\n",
       "std            0.16               181,936.45\n",
       "min             3.3                    1,500\n",
       "25%             4.6                   17,500\n",
       "50%             4.7                   42,000\n",
       "75%             4.8                   99,500\n",
       "max               5                3,200,000"
      ]
     },
     "execution_count": 116,
     "metadata": {},
     "output_type": "execute_result"
    }
   ],
   "source": [
    "df.describe().map(\n",
    "    lambda x: '{:,.2f}'.format(x).rstrip('0').rstrip('.')\n",
    ")"
   ]
  },
  {
   "cell_type": "markdown",
   "metadata": {},
   "source": [
    "### Removing duplicated samples and features"
   ]
  },
  {
   "cell_type": "code",
   "execution_count": 117,
   "metadata": {},
   "outputs": [
    {
     "data": {
      "text/html": [
       "<div>\n",
       "<style scoped>\n",
       "    .dataframe tbody tr th:only-of-type {\n",
       "        vertical-align: middle;\n",
       "    }\n",
       "\n",
       "    .dataframe tbody tr th {\n",
       "        vertical-align: top;\n",
       "    }\n",
       "\n",
       "    .dataframe thead th {\n",
       "        text-align: right;\n",
       "    }\n",
       "</style>\n",
       "<table border=\"1\" class=\"dataframe\">\n",
       "  <thead>\n",
       "    <tr style=\"text-align: right;\">\n",
       "      <th></th>\n",
       "      <th>course_title</th>\n",
       "      <th>course_organization</th>\n",
       "      <th>course_Certificate_type</th>\n",
       "      <th>course_rating</th>\n",
       "      <th>course_difficulty</th>\n",
       "      <th>course_students_enrolled</th>\n",
       "    </tr>\n",
       "  </thead>\n",
       "  <tbody>\n",
       "  </tbody>\n",
       "</table>\n",
       "</div>"
      ],
      "text/plain": [
       "Empty DataFrame\n",
       "Columns: [course_title, course_organization, course_Certificate_type, course_rating, course_difficulty, course_students_enrolled]\n",
       "Index: []"
      ]
     },
     "execution_count": 117,
     "metadata": {},
     "output_type": "execute_result"
    }
   ],
   "source": [
    "\n",
    "duplicate_rows = df[df.duplicated()]\n",
    "duplicate_rows"
   ]
  },
  {
   "cell_type": "markdown",
   "metadata": {},
   "source": [
    "\n",
    "No duplicated rows were found, so no actions were required."
   ]
  },
  {
   "cell_type": "code",
   "execution_count": 118,
   "metadata": {},
   "outputs": [],
   "source": [
    "del duplicate_rows"
   ]
  },
  {
   "cell_type": "code",
   "execution_count": 119,
   "metadata": {},
   "outputs": [
    {
     "data": {
      "text/plain": [
       "Index([], dtype='object')"
      ]
     },
     "execution_count": 119,
     "metadata": {},
     "output_type": "execute_result"
    }
   ],
   "source": [
    "duplicate_columns = df.columns[df.columns.duplicated()]\n",
    "duplicate_columns"
   ]
  },
  {
   "cell_type": "markdown",
   "metadata": {},
   "source": [
    "\n",
    "No duplicated columns were found, so no actions were required."
   ]
  },
  {
   "cell_type": "code",
   "execution_count": 120,
   "metadata": {},
   "outputs": [],
   "source": [
    "del duplicate_columns"
   ]
  },
  {
   "cell_type": "markdown",
   "metadata": {},
   "source": [
    "### Treating outliers"
   ]
  },
  {
   "cell_type": "code",
   "execution_count": 121,
   "metadata": {},
   "outputs": [
    {
     "data": {
      "text/plain": [
       "Index(['course_rating', 'course_students_enrolled'], dtype='object')"
      ]
     },
     "execution_count": 121,
     "metadata": {},
     "output_type": "execute_result"
    }
   ],
   "source": [
    "numerical_features"
   ]
  },
  {
   "cell_type": "code",
   "execution_count": 122,
   "metadata": {},
   "outputs": [
    {
     "data": {
      "image/png": "[encoded data removed]",
      "text/plain": [
       "<Figure size 1500x1000 with 2 Axes>"
      ]
     },
     "metadata": {},
     "output_type": "display_data"
    }
   ],
   "source": [
    "# Visualize the distribution of numerical features to identify outliers\n",
    "numerical_features = df.select_dtypes(include=[np.number]).columns\n",
    "\n",
    "# Plot boxplots for numerical features in a grid view\n",
    "plt.figure(figsize=(15, 10))\n",
    "for i, feature in enumerate(numerical_features):\n",
    "    plt.subplot(4, 3, i + 1)\n",
    "    sns.boxplot(x=df[feature])\n",
    "    plt.title(f'Boxplot of {feature}')\n",
    "plt.tight_layout()\n",
    "plt.show()"
   ]
  },
  {
   "cell_type": "code",
   "execution_count": 125,
   "metadata": {},
   "outputs": [
    {
     "name": "stderr",
     "output_type": "stream",
     "text": [
      "'pwd' is not recognized as an internal or external command,\n",
      "operable program or batch file.\n"
     ]
    }
   ],
   "source": [
    "!pwd"
   ]
  },
  {
   "cell_type": "code",
   "execution_count": null,
   "metadata": {},
   "outputs": [],
   "source": []
  }
 ],
 "metadata": {
  "kernelspec": {
   "display_name": "Python 3",
   "language": "python",
   "name": "python3"
  },
  "language_info": {
   "codemirror_mode": {
    "name": "ipython",
    "version": 3
   },
   "file_extension": ".py",
   "mimetype": "text/x-python",
   "name": "python",
   "nbconvert_exporter": "python",
   "pygments_lexer": "ipython3",
   "version": "3.12.3"
  }
 },
 "nbformat": 4,
 "nbformat_minor": 2
}
